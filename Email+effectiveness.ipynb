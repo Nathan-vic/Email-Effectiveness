{
 "cells": [
  {
   "cell_type": "code",
   "execution_count": 2,
   "metadata": {
    "collapsed": true
   },
   "outputs": [],
   "source": [
    "# loading the necessary packages\n",
    "import pandas as pd\n",
    "import numpy as np\n",
    "import matplotlib.pyplot as plt\n",
    "%matplotlib inline\n",
    "from sklearn.decomposition import PCA\n",
    "import seaborn as sns\n",
    "from sklearn.tree import DecisionTreeClassifier\n",
    "from sklearn.ensemble import RandomForestClassifier\n",
    "from sklearn.svm import SVC\n",
    "from sklearn.linear_model import LogisticRegression\n",
    "from sklearn.neighbors import KNeighborsClassifier\n",
    "from sklearn.ensemble import AdaBoostClassifier\n",
    "from sklearn.neural_network import MLPClassifier\n"
   ]
  },
  {
   "cell_type": "code",
   "execution_count": 3,
   "metadata": {
    "collapsed": true
   },
   "outputs": [],
   "source": [
    "# loading the data provided\n",
    "campaign_types = pd.read_csv(\"/Users/arg000m/Downloads/Data-2/campaign_types.csv\")\n",
    "\n",
    "events = pd.read_csv(\"/Users/arg000m/Downloads/Data-2/events.csv\")\n",
    "\n",
    "Opens = pd.read_csv(\"/Users/arg000m/Downloads/Data-2/Opens.csv\")\n",
    "\n",
    "Sends = pd.read_csv(\"/Users/arg000m/Downloads/Data-2/Sends.csv\")\n",
    "\n",
    "UserInfo = pd.read_csv(\"/Users/arg000m/Downloads/Data-2/UserInfo.csv\")"
   ]
  },
  {
   "cell_type": "code",
   "execution_count": 117,
   "metadata": {},
   "outputs": [
    {
     "data": {
      "text/plain": [
       "array(['eReceipt_Physical', 'Other_Other', 'Checkout_Online',\n",
       "       'POS form_Physical', 'Lightbox_Desktop', 'Join_Mobile',\n",
       "       'Footer_Desktop', 'Warehouse_Mobile', 'Join_Desktop',\n",
       "       'My Account_Mobile', 'My Account_Desktop', 'Warehouse_Desktop',\n",
       "       'Lightbox_Mobile', 'Footer_Mobile', 'Facebook CPL_Online',\n",
       "       'Sports/Brand_Online'], dtype=object)"
      ]
     },
     "execution_count": 117,
     "metadata": {},
     "output_type": "execute_result"
    }
   ],
   "source": [
    "UserInfo['sub_source'].unique()"
   ]
  },
  {
   "cell_type": "code",
   "execution_count": 4,
   "metadata": {},
   "outputs": [
    {
     "name": "stdout",
     "output_type": "stream",
     "text": [
      "launch_id    0\n",
      "camptype     0\n",
      "dtype: int64\n",
      "riid                0\n",
      "campaign_send_dt    0\n",
      "opened              0\n",
      "dtype: int64\n",
      "riid                0\n",
      "campaign_send_dt    0\n",
      "optout              0\n",
      "dtype: int64\n",
      "riid                     0\n",
      "event                    0\n",
      "event_captured_dt    45760\n",
      "cnts                     0\n",
      "dtype: int64\n",
      "riid          0\n",
      "aq_dt         0\n",
      "sub_source    0\n",
      "dtype: int64\n"
     ]
    }
   ],
   "source": [
    "# finding out the null value columns in all the datasets\n",
    "datasets = [campaign_types,Sends,Opens,events,UserInfo]\n",
    "\n",
    "for dataset in datasets:\n",
    "    print dataset.isnull().sum()"
   ]
  },
  {
   "cell_type": "markdown",
   "metadata": {},
   "source": [
    "## EDA"
   ]
  },
  {
   "cell_type": "code",
   "execution_count": 5,
   "metadata": {},
   "outputs": [
    {
     "data": {
      "text/plain": [
       "(47617, 100000, 30567, 100000, 58741, 8358444, 200000, 200000)"
      ]
     },
     "execution_count": 5,
     "metadata": {},
     "output_type": "execute_result"
    }
   ],
   "source": [
    "# unique riid count in all the datasets\n",
    "\n",
    "len(Sends['riid'].unique()),len(Sends['riid']),len(Opens['riid'].unique()),len(Opens['riid']),len(events['riid'].unique()),len(events['riid']),len(UserInfo['riid'].unique()),len(UserInfo['riid'])\n",
    "\n",
    "#"
   ]
  },
  {
   "cell_type": "code",
   "execution_count": 6,
   "metadata": {
    "collapsed": true
   },
   "outputs": [],
   "source": [
    "# combine sends, campaign type and user information\n",
    "Sends_ctype_uinfo = pd.merge(Sends, campaign_types, how = 'left', left_on ='campaign_send_dt', right_on = 'launch_id').merge(UserInfo, how = 'left' , on = 'riid')"
   ]
  },
  {
   "cell_type": "code",
   "execution_count": 7,
   "metadata": {},
   "outputs": [
    {
     "data": {
      "text/plain": [
       "(47617, 100000)"
      ]
     },
     "execution_count": 7,
     "metadata": {},
     "output_type": "execute_result"
    }
   ],
   "source": [
    "#checks \n",
    "len(Sends_ctype_uinfo['riid'].unique()),len(Sends_ctype_uinfo['riid'])\n"
   ]
  },
  {
   "cell_type": "code",
   "execution_count": 8,
   "metadata": {},
   "outputs": [
    {
     "data": {
      "text/plain": [
       "0    81374\n",
       "1    18626\n",
       "Name: opened, dtype: int64"
      ]
     },
     "execution_count": 8,
     "metadata": {},
     "output_type": "execute_result"
    }
   ],
   "source": [
    "Sends_ctype_uinfo['opened'].value_counts()"
   ]
  },
  {
   "cell_type": "code",
   "execution_count": 9,
   "metadata": {},
   "outputs": [
    {
     "data": {
      "text/plain": [
       "riid                  0\n",
       "campaign_send_dt      0\n",
       "opened                0\n",
       "launch_id           467\n",
       "camptype            467\n",
       "aq_dt                 0\n",
       "sub_source            0\n",
       "dtype: int64"
      ]
     },
     "execution_count": 9,
     "metadata": {},
     "output_type": "execute_result"
    }
   ],
   "source": [
    "#Sends_ctype_uinfo['sub_source'].value_counts()\n",
    "Sends_ctype_uinfo.isnull().sum()"
   ]
  },
  {
   "cell_type": "code",
   "execution_count": 10,
   "metadata": {},
   "outputs": [
    {
     "data": {
      "text/plain": [
       "Heavy Promo - Dedicated Messaging    37617\n",
       "Light Promo                          19842\n",
       "Light Promo - Secondary Messaging    18917\n",
       "Heavy Promo - Secondary Messaging    17800\n",
       "No Promo                              3196\n",
       "Heavy Promo                           2161\n",
       "Name: camptype, dtype: int64"
      ]
     },
     "execution_count": 10,
     "metadata": {},
     "output_type": "execute_result"
    }
   ],
   "source": [
    "Sends_ctype_uinfo['camptype'].value_counts()"
   ]
  },
  {
   "cell_type": "code",
   "execution_count": 11,
   "metadata": {},
   "outputs": [
    {
     "data": {
      "image/png": "[encoded data removed]",
      "text/plain": [
       "<matplotlib.figure.Figure at 0x116526dd0>"
      ]
     },
     "metadata": {},
     "output_type": "display_data"
    }
   ],
   "source": [
    "barwidth = 0.35\n",
    "ctype_open_pivot = pd.pivot_table(Sends_ctype_uinfo, index=[\"camptype\"],values='opened',aggfunc=('mean')).head()\n",
    "index = np.arange(len(ctype_open_pivot.index))\n",
    "\n",
    "plt.bar(index+barwidth,pd.DataFrame(ctype_open_pivot).reset_index()['opened'],barwidth,color='r',label='Open')\n",
    "plt.ylabel('prob of opening Per campaign Type')\n",
    "plt.xlabel('campaign Type')\n",
    "plt.title('prob of opening For Each campaign Type')\n",
    "plt.legend()\n",
    "plt.tight_layout()\n"
   ]
  },
  {
   "cell_type": "code",
   "execution_count": 69,
   "metadata": {},
   "outputs": [
    {
     "data": {
      "image/png": "[encoded data removed]",
      "text/plain": [
       "<matplotlib.figure.Figure at 0x123c01f10>"
      ]
     },
     "metadata": {},
     "output_type": "display_data"
    }
   ],
   "source": [
    "\n",
    "barwidth = 0.35\n",
    "ctype_open_pivot = pd.pivot_table(final, index=[\"weekday_type\"],values='opened',aggfunc=('mean')).head()\n",
    "\n",
    "\n",
    "index = np.arange(len(ctype_open_pivot.index))\n",
    "\n",
    "plt.bar(index+barwidth,pd.DataFrame(ctype_open_pivot).reset_index()['opened'],barwidth,color='b',label='Open')\n",
    "\n",
    "plt.ylabel('prob of opening Per weekday Type')\n",
    "plt.xlabel('weekday_type')\n",
    "plt.title('prob of opening For Each weekday Type')\n",
    "plt.legend()\n",
    "plt.tight_layout()"
   ]
  },
  {
   "cell_type": "code",
   "execution_count": 103,
   "metadata": {},
   "outputs": [
    {
     "data": {
      "image/png": "[encoded data removed]",
      "text/plain": [
       "<matplotlib.figure.Figure at 0x116dc79d0>"
      ]
     },
     "metadata": {},
     "output_type": "display_data"
    }
   ],
   "source": [
    "\n",
    "barwidth = 0.35\n",
    "ctype_optout_pivot = pd.pivot_table(final_opt, index=[\"camptype\"],values='optout',aggfunc=('mean')).head()\n",
    "\n",
    "\n",
    "index = np.arange(len(ctype_optout_pivot.index))\n",
    "\n",
    "plt.bar(index+barwidth,pd.DataFrame(ctype_optout_pivot).reset_index()['optout'],barwidth,color='r',label='optout')\n",
    "\n",
    "plt.ylabel('prob of optout Per camptype')\n",
    "plt.xlabel('camptype')\n",
    "plt.title('prob of optout For Each camptype')\n",
    "plt.legend()\n",
    "plt.tight_layout()"
   ]
  },
  {
   "cell_type": "code",
   "execution_count": 113,
   "metadata": {},
   "outputs": [
    {
     "data": {
      "image/png": "[encoded data removed]",
      "text/plain": [
       "<matplotlib.figure.Figure at 0x118aeb4d0>"
      ]
     },
     "metadata": {},
     "output_type": "display_data"
    }
   ],
   "source": [
    "ctype_optout_pivot = pd.pivot_table(final_opt, index=[\"weekday_type\"],values='optout',aggfunc=('mean')).head()\n",
    "\n",
    "index = np.arange(len(ctype_open_pivot.index))\n",
    "plt.bar(index+barwidth,pd.DataFrame(ctype_optout_pivot).reset_index()['optout'],barwidth,color='b',label='optout')\n",
    "\n",
    "plt.ylabel('prob of optout Per weekday_type')\n",
    "plt.xlabel('weekday_type')\n",
    "plt.title('prob of optout For Each weekday Type')\n",
    "plt.legend()\n",
    "plt.tight_layout()"
   ]
  },
  {
   "cell_type": "markdown",
   "metadata": {},
   "source": [
    "## Aggregate open rate for the sample provided in the “Sends” table"
   ]
  },
  {
   "cell_type": "code",
   "execution_count": 12,
   "metadata": {
    "collapsed": true
   },
   "outputs": [],
   "source": [
    "def Openrate(data):\n",
    "    return float(data['opened'].sum()/float(len(data['campaign_send_dt'])))"
   ]
  },
  {
   "cell_type": "code",
   "execution_count": 13,
   "metadata": {},
   "outputs": [
    {
     "data": {
      "text/plain": [
       "0.18626"
      ]
     },
     "execution_count": 13,
     "metadata": {},
     "output_type": "execute_result"
    }
   ],
   "source": [
    "Openrate(Sends)"
   ]
  },
  {
   "cell_type": "markdown",
   "metadata": {},
   "source": [
    "### Aggregate Unsub per Open (UPO) rate from the “Opens” table"
   ]
  },
  {
   "cell_type": "code",
   "execution_count": 14,
   "metadata": {
    "collapsed": true
   },
   "outputs": [],
   "source": [
    "def Unsub_per_open(data):\n",
    "    return float(data['optout'].sum()/float(len(data['campaign_send_dt'])))"
   ]
  },
  {
   "cell_type": "code",
   "execution_count": 15,
   "metadata": {},
   "outputs": [
    {
     "data": {
      "text/plain": [
       "0.01374"
      ]
     },
     "execution_count": 15,
     "metadata": {},
     "output_type": "execute_result"
    }
   ],
   "source": [
    "Unsub_per_open(Opens)  "
   ]
  },
  {
   "cell_type": "markdown",
   "metadata": {},
   "source": [
    "### 2. Calculate the open and UPO rates and count of customers at the following granularities:"
   ]
  },
  {
   "cell_type": "markdown",
   "metadata": {},
   "source": [
    " #### a. launch_id"
   ]
  },
  {
   "cell_type": "code",
   "execution_count": 82,
   "metadata": {
    "collapsed": true
   },
   "outputs": [],
   "source": [
    "Launch_id_open = Sends_ctype_uinfo.groupby(['launch_id']).agg({'opened':sum,\n",
    "                                                               \n",
    "                                     'campaign_send_dt': 'count', \n",
    "                                     'riid': pd.Series.nunique })\n",
    "\n",
    "Launch_id_open['openrate'] = Launch_id_open['opened']/Launch_id_open['campaign_send_dt']\n"
   ]
  },
  {
   "cell_type": "code",
   "execution_count": 83,
   "metadata": {},
   "outputs": [
    {
     "data": {
      "text/html": [
       "<div>\n",
       "<table border=\"1\" class=\"dataframe\">\n",
       "  <thead>\n",
       "    <tr style=\"text-align: right;\">\n",
       "      <th></th>\n",
       "      <th>riid</th>\n",
       "      <th>opened</th>\n",
       "      <th>campaign_send_dt</th>\n",
       "      <th>openrate</th>\n",
       "    </tr>\n",
       "    <tr>\n",
       "      <th>launch_id</th>\n",
       "      <th></th>\n",
       "      <th></th>\n",
       "      <th></th>\n",
       "      <th></th>\n",
       "    </tr>\n",
       "  </thead>\n",
       "  <tbody>\n",
       "    <tr>\n",
       "      <th>2018-01-01</th>\n",
       "      <td>1084</td>\n",
       "      <td>310</td>\n",
       "      <td>1084</td>\n",
       "      <td>0.285978</td>\n",
       "    </tr>\n",
       "    <tr>\n",
       "      <th>2018-01-03</th>\n",
       "      <td>4575</td>\n",
       "      <td>790</td>\n",
       "      <td>4575</td>\n",
       "      <td>0.172678</td>\n",
       "    </tr>\n",
       "    <tr>\n",
       "      <th>2018-01-05</th>\n",
       "      <td>2074</td>\n",
       "      <td>502</td>\n",
       "      <td>2074</td>\n",
       "      <td>0.242044</td>\n",
       "    </tr>\n",
       "    <tr>\n",
       "      <th>2018-01-07</th>\n",
       "      <td>2582</td>\n",
       "      <td>501</td>\n",
       "      <td>2582</td>\n",
       "      <td>0.194036</td>\n",
       "    </tr>\n",
       "    <tr>\n",
       "      <th>2018-01-08</th>\n",
       "      <td>1606</td>\n",
       "      <td>337</td>\n",
       "      <td>1606</td>\n",
       "      <td>0.209838</td>\n",
       "    </tr>\n",
       "  </tbody>\n",
       "</table>\n",
       "</div>"
      ],
      "text/plain": [
       "            riid  opened  campaign_send_dt  openrate\n",
       "launch_id                                           \n",
       "2018-01-01  1084     310              1084  0.285978\n",
       "2018-01-03  4575     790              4575  0.172678\n",
       "2018-01-05  2074     502              2074  0.242044\n",
       "2018-01-07  2582     501              2582  0.194036\n",
       "2018-01-08  1606     337              1606  0.209838"
      ]
     },
     "execution_count": 83,
     "metadata": {},
     "output_type": "execute_result"
    }
   ],
   "source": [
    "Launch_id_open.head()"
   ]
  },
  {
   "cell_type": "code",
   "execution_count": 92,
   "metadata": {
    "collapsed": true
   },
   "outputs": [],
   "source": [
    "Launch_id_optout = final_opt.groupby(['launch_id']).agg({'optout':sum,                                                               \n",
    "                                     'campaign_send_dt': 'count', \n",
    "                                     'riid': pd.Series.nunique })\n",
    "\n",
    "Launch_id_optout['optoutrate'] = Launch_id_optout['optout']/Launch_id_optout['campaign_send_dt']\n"
   ]
  },
  {
   "cell_type": "code",
   "execution_count": 93,
   "metadata": {},
   "outputs": [
    {
     "data": {
      "text/html": [
       "<div>\n",
       "<table border=\"1\" class=\"dataframe\">\n",
       "  <thead>\n",
       "    <tr style=\"text-align: right;\">\n",
       "      <th></th>\n",
       "      <th>riid</th>\n",
       "      <th>campaign_send_dt</th>\n",
       "      <th>optout</th>\n",
       "      <th>optoutrate</th>\n",
       "    </tr>\n",
       "    <tr>\n",
       "      <th>launch_id</th>\n",
       "      <th></th>\n",
       "      <th></th>\n",
       "      <th></th>\n",
       "      <th></th>\n",
       "    </tr>\n",
       "  </thead>\n",
       "  <tbody>\n",
       "    <tr>\n",
       "      <th>2018-01-01</th>\n",
       "      <td>1475</td>\n",
       "      <td>1475</td>\n",
       "      <td>29</td>\n",
       "      <td>0.019661</td>\n",
       "    </tr>\n",
       "    <tr>\n",
       "      <th>2018-01-03</th>\n",
       "      <td>4704</td>\n",
       "      <td>4704</td>\n",
       "      <td>130</td>\n",
       "      <td>0.027636</td>\n",
       "    </tr>\n",
       "    <tr>\n",
       "      <th>2018-01-05</th>\n",
       "      <td>2671</td>\n",
       "      <td>2671</td>\n",
       "      <td>42</td>\n",
       "      <td>0.015724</td>\n",
       "    </tr>\n",
       "    <tr>\n",
       "      <th>2018-01-07</th>\n",
       "      <td>2422</td>\n",
       "      <td>2422</td>\n",
       "      <td>27</td>\n",
       "      <td>0.011148</td>\n",
       "    </tr>\n",
       "    <tr>\n",
       "      <th>2018-01-08</th>\n",
       "      <td>1712</td>\n",
       "      <td>1712</td>\n",
       "      <td>24</td>\n",
       "      <td>0.014019</td>\n",
       "    </tr>\n",
       "  </tbody>\n",
       "</table>\n",
       "</div>"
      ],
      "text/plain": [
       "            riid  campaign_send_dt  optout  optoutrate\n",
       "launch_id                                             \n",
       "2018-01-01  1475              1475      29    0.019661\n",
       "2018-01-03  4704              4704     130    0.027636\n",
       "2018-01-05  2671              2671      42    0.015724\n",
       "2018-01-07  2422              2422      27    0.011148\n",
       "2018-01-08  1712              1712      24    0.014019"
      ]
     },
     "execution_count": 93,
     "metadata": {},
     "output_type": "execute_result"
    }
   ],
   "source": [
    "Launch_id_optout.head()"
   ]
  },
  {
   "cell_type": "markdown",
   "metadata": {},
   "source": [
    "### # b. User Sub source "
   ]
  },
  {
   "cell_type": "code",
   "execution_count": 94,
   "metadata": {
    "collapsed": true
   },
   "outputs": [],
   "source": [
    "# b. User Sub source \n",
    "sub_source_open = Sends_ctype_uinfo.groupby(['sub_source']).agg({'opened':sum,\n",
    "                                                             'campaign_send_dt': 'count',\n",
    "                                     'riid': pd.Series.nunique })\n",
    "\n",
    "sub_source_open['openrate'] = sub_source_open['opened']/sub_source_open['campaign_send_dt']\n"
   ]
  },
  {
   "cell_type": "code",
   "execution_count": 119,
   "metadata": {},
   "outputs": [
    {
     "data": {
      "text/html": [
       "<div>\n",
       "<table border=\"1\" class=\"dataframe\">\n",
       "  <thead>\n",
       "    <tr style=\"text-align: right;\">\n",
       "      <th></th>\n",
       "      <th>riid</th>\n",
       "      <th>opened</th>\n",
       "      <th>campaign_send_dt</th>\n",
       "      <th>openrate</th>\n",
       "    </tr>\n",
       "    <tr>\n",
       "      <th>sub_source</th>\n",
       "      <th></th>\n",
       "      <th></th>\n",
       "      <th></th>\n",
       "      <th></th>\n",
       "    </tr>\n",
       "  </thead>\n",
       "  <tbody>\n",
       "    <tr>\n",
       "      <th>Checkout_Online</th>\n",
       "      <td>11195</td>\n",
       "      <td>5091</td>\n",
       "      <td>26189</td>\n",
       "      <td>0.194395</td>\n",
       "    </tr>\n",
       "    <tr>\n",
       "      <th>Facebook CPL_Online</th>\n",
       "      <td>421</td>\n",
       "      <td>125</td>\n",
       "      <td>830</td>\n",
       "      <td>0.150602</td>\n",
       "    </tr>\n",
       "    <tr>\n",
       "      <th>Footer_Desktop</th>\n",
       "      <td>1230</td>\n",
       "      <td>555</td>\n",
       "      <td>2537</td>\n",
       "      <td>0.218762</td>\n",
       "    </tr>\n",
       "    <tr>\n",
       "      <th>Footer_Mobile</th>\n",
       "      <td>1046</td>\n",
       "      <td>407</td>\n",
       "      <td>2221</td>\n",
       "      <td>0.183251</td>\n",
       "    </tr>\n",
       "    <tr>\n",
       "      <th>Join_Desktop</th>\n",
       "      <td>727</td>\n",
       "      <td>283</td>\n",
       "      <td>1532</td>\n",
       "      <td>0.184726</td>\n",
       "    </tr>\n",
       "  </tbody>\n",
       "</table>\n",
       "</div>"
      ],
      "text/plain": [
       "                      riid  opened  campaign_send_dt  openrate\n",
       "sub_source                                                    \n",
       "Checkout_Online      11195    5091             26189  0.194395\n",
       "Facebook CPL_Online    421     125               830  0.150602\n",
       "Footer_Desktop        1230     555              2537  0.218762\n",
       "Footer_Mobile         1046     407              2221  0.183251\n",
       "Join_Desktop           727     283              1532  0.184726"
      ]
     },
     "execution_count": 119,
     "metadata": {},
     "output_type": "execute_result"
    }
   ],
   "source": [
    "sub_source_open.head()"
   ]
  },
  {
   "cell_type": "code",
   "execution_count": 96,
   "metadata": {
    "collapsed": true
   },
   "outputs": [],
   "source": [
    "# b. User Sub source \n",
    "sub_source_optout = final_opt.groupby(['sub_source']).agg({'optout':sum,\n",
    "                                                             'campaign_send_dt': 'count', \n",
    "                                     'riid': pd.Series.nunique })\n",
    "\n",
    "sub_source_optout['optoutrate'] = sub_source_optout['optout']/sub_source_optout['campaign_send_dt']\n",
    "\n",
    "\n"
   ]
  },
  {
   "cell_type": "code",
   "execution_count": 98,
   "metadata": {},
   "outputs": [
    {
     "data": {
      "text/html": [
       "<div>\n",
       "<table border=\"1\" class=\"dataframe\">\n",
       "  <thead>\n",
       "    <tr style=\"text-align: right;\">\n",
       "      <th></th>\n",
       "      <th>riid</th>\n",
       "      <th>campaign_send_dt</th>\n",
       "      <th>optout</th>\n",
       "      <th>optoutrate</th>\n",
       "    </tr>\n",
       "    <tr>\n",
       "      <th>sub_source</th>\n",
       "      <th></th>\n",
       "      <th></th>\n",
       "      <th></th>\n",
       "      <th></th>\n",
       "    </tr>\n",
       "  </thead>\n",
       "  <tbody>\n",
       "    <tr>\n",
       "      <th>Checkout_Online</th>\n",
       "      <td>6997</td>\n",
       "      <td>26131</td>\n",
       "      <td>407</td>\n",
       "      <td>0.015575</td>\n",
       "    </tr>\n",
       "    <tr>\n",
       "      <th>Facebook CPL_Online</th>\n",
       "      <td>250</td>\n",
       "      <td>735</td>\n",
       "      <td>2</td>\n",
       "      <td>0.002721</td>\n",
       "    </tr>\n",
       "    <tr>\n",
       "      <th>Footer_Desktop</th>\n",
       "      <td>843</td>\n",
       "      <td>2874</td>\n",
       "      <td>55</td>\n",
       "      <td>0.019137</td>\n",
       "    </tr>\n",
       "    <tr>\n",
       "      <th>Footer_Mobile</th>\n",
       "      <td>653</td>\n",
       "      <td>2273</td>\n",
       "      <td>31</td>\n",
       "      <td>0.013638</td>\n",
       "    </tr>\n",
       "    <tr>\n",
       "      <th>Join_Desktop</th>\n",
       "      <td>487</td>\n",
       "      <td>1523</td>\n",
       "      <td>37</td>\n",
       "      <td>0.024294</td>\n",
       "    </tr>\n",
       "    <tr>\n",
       "      <th>Join_Mobile</th>\n",
       "      <td>130</td>\n",
       "      <td>380</td>\n",
       "      <td>6</td>\n",
       "      <td>0.015789</td>\n",
       "    </tr>\n",
       "    <tr>\n",
       "      <th>Lightbox_Desktop</th>\n",
       "      <td>4953</td>\n",
       "      <td>15120</td>\n",
       "      <td>301</td>\n",
       "      <td>0.019907</td>\n",
       "    </tr>\n",
       "    <tr>\n",
       "      <th>Lightbox_Mobile</th>\n",
       "      <td>1865</td>\n",
       "      <td>5672</td>\n",
       "      <td>100</td>\n",
       "      <td>0.017630</td>\n",
       "    </tr>\n",
       "    <tr>\n",
       "      <th>My Account_Desktop</th>\n",
       "      <td>193</td>\n",
       "      <td>705</td>\n",
       "      <td>1</td>\n",
       "      <td>0.001418</td>\n",
       "    </tr>\n",
       "    <tr>\n",
       "      <th>My Account_Mobile</th>\n",
       "      <td>44</td>\n",
       "      <td>96</td>\n",
       "      <td>3</td>\n",
       "      <td>0.031250</td>\n",
       "    </tr>\n",
       "    <tr>\n",
       "      <th>Other_Other</th>\n",
       "      <td>4064</td>\n",
       "      <td>13937</td>\n",
       "      <td>77</td>\n",
       "      <td>0.005525</td>\n",
       "    </tr>\n",
       "    <tr>\n",
       "      <th>POS form_Physical</th>\n",
       "      <td>5523</td>\n",
       "      <td>17794</td>\n",
       "      <td>140</td>\n",
       "      <td>0.007868</td>\n",
       "    </tr>\n",
       "    <tr>\n",
       "      <th>Sports/Brand_Online</th>\n",
       "      <td>478</td>\n",
       "      <td>1075</td>\n",
       "      <td>37</td>\n",
       "      <td>0.034419</td>\n",
       "    </tr>\n",
       "    <tr>\n",
       "      <th>Warehouse_Desktop</th>\n",
       "      <td>332</td>\n",
       "      <td>1184</td>\n",
       "      <td>18</td>\n",
       "      <td>0.015203</td>\n",
       "    </tr>\n",
       "    <tr>\n",
       "      <th>Warehouse_Mobile</th>\n",
       "      <td>197</td>\n",
       "      <td>669</td>\n",
       "      <td>7</td>\n",
       "      <td>0.010463</td>\n",
       "    </tr>\n",
       "    <tr>\n",
       "      <th>eReceipt_Physical</th>\n",
       "      <td>3558</td>\n",
       "      <td>9832</td>\n",
       "      <td>152</td>\n",
       "      <td>0.015460</td>\n",
       "    </tr>\n",
       "  </tbody>\n",
       "</table>\n",
       "</div>"
      ],
      "text/plain": [
       "                     riid  campaign_send_dt  optout  optoutrate\n",
       "sub_source                                                     \n",
       "Checkout_Online      6997             26131     407    0.015575\n",
       "Facebook CPL_Online   250               735       2    0.002721\n",
       "Footer_Desktop        843              2874      55    0.019137\n",
       "Footer_Mobile         653              2273      31    0.013638\n",
       "Join_Desktop          487              1523      37    0.024294\n",
       "Join_Mobile           130               380       6    0.015789\n",
       "Lightbox_Desktop     4953             15120     301    0.019907\n",
       "Lightbox_Mobile      1865              5672     100    0.017630\n",
       "My Account_Desktop    193               705       1    0.001418\n",
       "My Account_Mobile      44                96       3    0.031250\n",
       "Other_Other          4064             13937      77    0.005525\n",
       "POS form_Physical    5523             17794     140    0.007868\n",
       "Sports/Brand_Online   478              1075      37    0.034419\n",
       "Warehouse_Desktop     332              1184      18    0.015203\n",
       "Warehouse_Mobile      197               669       7    0.010463\n",
       "eReceipt_Physical    3558              9832     152    0.015460"
      ]
     },
     "execution_count": 98,
     "metadata": {},
     "output_type": "execute_result"
    }
   ],
   "source": [
    "sub_source_optout"
   ]
  },
  {
   "cell_type": "markdown",
   "metadata": {},
   "source": [
    "### #c. User Month of acquisition"
   ]
  },
  {
   "cell_type": "code",
   "execution_count": 124,
   "metadata": {
    "collapsed": true
   },
   "outputs": [],
   "source": [
    "Sends_ctype_uinfo['month'] = pd.DatetimeIndex(Sends_ctype_uinfo['aq_dt']).month\n",
    "month_open = Sends_ctype_uinfo.groupby(['month']).agg({'opened':sum,\n",
    "                                                               'opened':sum , \n",
    "                                     'campaign_send_dt': 'count', \n",
    "                                     'riid': pd.Series.nunique })\n",
    "\n",
    "month_open['openrate'] = month_open['opened']/month_open['campaign_send_dt']\n"
   ]
  },
  {
   "cell_type": "code",
   "execution_count": 125,
   "metadata": {},
   "outputs": [
    {
     "data": {
      "text/html": [
       "<div>\n",
       "<table border=\"1\" class=\"dataframe\">\n",
       "  <thead>\n",
       "    <tr style=\"text-align: right;\">\n",
       "      <th></th>\n",
       "      <th>riid</th>\n",
       "      <th>opened</th>\n",
       "      <th>campaign_send_dt</th>\n",
       "      <th>openrate</th>\n",
       "    </tr>\n",
       "    <tr>\n",
       "      <th>month</th>\n",
       "      <th></th>\n",
       "      <th></th>\n",
       "      <th></th>\n",
       "      <th></th>\n",
       "    </tr>\n",
       "  </thead>\n",
       "  <tbody>\n",
       "    <tr>\n",
       "      <th>1</th>\n",
       "      <td>3235</td>\n",
       "      <td>1312</td>\n",
       "      <td>6287</td>\n",
       "      <td>0.208685</td>\n",
       "    </tr>\n",
       "    <tr>\n",
       "      <th>2</th>\n",
       "      <td>2819</td>\n",
       "      <td>1031</td>\n",
       "      <td>5516</td>\n",
       "      <td>0.186911</td>\n",
       "    </tr>\n",
       "    <tr>\n",
       "      <th>3</th>\n",
       "      <td>4492</td>\n",
       "      <td>1982</td>\n",
       "      <td>10448</td>\n",
       "      <td>0.189701</td>\n",
       "    </tr>\n",
       "    <tr>\n",
       "      <th>4</th>\n",
       "      <td>3001</td>\n",
       "      <td>1199</td>\n",
       "      <td>6485</td>\n",
       "      <td>0.184888</td>\n",
       "    </tr>\n",
       "    <tr>\n",
       "      <th>5</th>\n",
       "      <td>3437</td>\n",
       "      <td>1420</td>\n",
       "      <td>7609</td>\n",
       "      <td>0.186621</td>\n",
       "    </tr>\n",
       "  </tbody>\n",
       "</table>\n",
       "</div>"
      ],
      "text/plain": [
       "       riid  opened  campaign_send_dt  openrate\n",
       "month                                          \n",
       "1      3235    1312              6287  0.208685\n",
       "2      2819    1031              5516  0.186911\n",
       "3      4492    1982             10448  0.189701\n",
       "4      3001    1199              6485  0.184888\n",
       "5      3437    1420              7609  0.186621"
      ]
     },
     "execution_count": 125,
     "metadata": {},
     "output_type": "execute_result"
    }
   ],
   "source": [
    "month_open.head()"
   ]
  },
  {
   "cell_type": "code",
   "execution_count": 100,
   "metadata": {
    "collapsed": true
   },
   "outputs": [],
   "source": [
    "final_opt['month'] = pd.DatetimeIndex(final_opt['aq_dt']).month\n",
    "month_optout = final_opt.groupby(['month']).agg({'optout':sum,\n",
    "                                                               'optout':sum , \n",
    "                                                 'campaign_send_dt': 'count', \n",
    "                                     'riid': pd.Series.nunique })\n",
    "\n",
    "\n",
    "\n",
    "month_optout['optout_rate'] = month_optout['optout']/month_optout['campaign_send_dt']"
   ]
  },
  {
   "cell_type": "code",
   "execution_count": 101,
   "metadata": {},
   "outputs": [
    {
     "data": {
      "text/html": [
       "<div>\n",
       "<table border=\"1\" class=\"dataframe\">\n",
       "  <thead>\n",
       "    <tr style=\"text-align: right;\">\n",
       "      <th></th>\n",
       "      <th>riid</th>\n",
       "      <th>campaign_send_dt</th>\n",
       "      <th>optout</th>\n",
       "      <th>optout_rate</th>\n",
       "    </tr>\n",
       "    <tr>\n",
       "      <th>month</th>\n",
       "      <th></th>\n",
       "      <th></th>\n",
       "      <th></th>\n",
       "      <th></th>\n",
       "    </tr>\n",
       "  </thead>\n",
       "  <tbody>\n",
       "    <tr>\n",
       "      <th>1</th>\n",
       "      <td>2451</td>\n",
       "      <td>7516</td>\n",
       "      <td>138</td>\n",
       "      <td>0.018361</td>\n",
       "    </tr>\n",
       "    <tr>\n",
       "      <th>2</th>\n",
       "      <td>2296</td>\n",
       "      <td>5911</td>\n",
       "      <td>109</td>\n",
       "      <td>0.018440</td>\n",
       "    </tr>\n",
       "    <tr>\n",
       "      <th>3</th>\n",
       "      <td>2646</td>\n",
       "      <td>10011</td>\n",
       "      <td>78</td>\n",
       "      <td>0.007791</td>\n",
       "    </tr>\n",
       "    <tr>\n",
       "      <th>4</th>\n",
       "      <td>1794</td>\n",
       "      <td>6386</td>\n",
       "      <td>64</td>\n",
       "      <td>0.010022</td>\n",
       "    </tr>\n",
       "    <tr>\n",
       "      <th>5</th>\n",
       "      <td>2123</td>\n",
       "      <td>7371</td>\n",
       "      <td>101</td>\n",
       "      <td>0.013702</td>\n",
       "    </tr>\n",
       "  </tbody>\n",
       "</table>\n",
       "</div>"
      ],
      "text/plain": [
       "       riid  campaign_send_dt  optout  optout_rate\n",
       "month                                             \n",
       "1      2451              7516     138     0.018361\n",
       "2      2296              5911     109     0.018440\n",
       "3      2646             10011      78     0.007791\n",
       "4      1794              6386      64     0.010022\n",
       "5      2123              7371     101     0.013702"
      ]
     },
     "execution_count": 101,
     "metadata": {},
     "output_type": "execute_result"
    }
   ],
   "source": [
    "month_optout.head()"
   ]
  },
  {
   "cell_type": "markdown",
   "metadata": {},
   "source": [
    "## Relationship between tenure and opening the mail - visualization"
   ]
  },
  {
   "cell_type": "code",
   "execution_count": 102,
   "metadata": {
    "collapsed": true
   },
   "outputs": [],
   "source": [
    "bins = [0,5,10,15,20,25,30,35,40,45,50,55,60,65,70,75,80,85,90,95,100]\n",
    "final['binned'] = pd.cut(final['tenure']/30, bins)\n",
    "opend_avg = final.groupby('binned').agg({\"opened\": [np.mean, np.sum]})"
   ]
  },
  {
   "cell_type": "code",
   "execution_count": 272,
   "metadata": {
    "collapsed": true
   },
   "outputs": [],
   "source": [
    "plot_final = final.groupby('binned').agg({\"opened\": [np.mean, np.sum, 'count']})"
   ]
  },
  {
   "cell_type": "code",
   "execution_count": 273,
   "metadata": {
    "collapsed": true
   },
   "outputs": [],
   "source": [
    "plot_final.columns = plot_final.columns.droplevel(0)"
   ]
  },
  {
   "cell_type": "code",
   "execution_count": 274,
   "metadata": {
    "collapsed": true
   },
   "outputs": [],
   "source": [
    "plot_final = plot_final.reset_index()"
   ]
  },
  {
   "cell_type": "code",
   "execution_count": 276,
   "metadata": {
    "collapsed": true
   },
   "outputs": [],
   "source": [
    "plot_final.columns = [\"binned_months\", \"Open rate Avg\", \"Sum\", \"Count\"]"
   ]
  },
  {
   "cell_type": "code",
   "execution_count": 278,
   "metadata": {},
   "outputs": [
    {
     "data": {
      "image/png": "[encoded data removed]",
      "text/plain": [
       "<matplotlib.figure.Figure at 0x10d220e50>"
      ]
     },
     "metadata": {},
     "output_type": "display_data"
    }
   ],
   "source": [
    "import seaborn as sns\n",
    "sns.set(style=\"whitegrid\", color_codes=True)\n",
    "fig.set_size_inches(15, 29)\n",
    "sns.stripplot(x=\"binned_months\", y=\"Open rate Avg\", data=plot_final);"
   ]
  },
  {
   "cell_type": "markdown",
   "metadata": {},
   "source": [
    "#### From the above plot, we can see that the effect of tenure on Avg email Open rate has different effect at different values of tenure.\n",
    "#### Till 25-30 months tenure, the email open rate is decreasing and from there we can see it increasing.\n",
    "#### Also, after the 85 - 90th month the open rate is decreasing\n"
   ]
  },
  {
   "cell_type": "markdown",
   "metadata": {},
   "source": [
    "## Modeling methodology"
   ]
  },
  {
   "cell_type": "markdown",
   "metadata": {},
   "source": [
    "## Feature engineering"
   ]
  },
  {
   "cell_type": "code",
   "execution_count": 17,
   "metadata": {
    "collapsed": true
   },
   "outputs": [],
   "source": [
    "events['cnts_OPEN'] = np.where(events['event'] == 'OPEN', events['cnts'], 0)   \n",
    "events['cnts_CLICK'] = np.where(events['event'] == 'CLICK', events['cnts'], 0)   \n",
    "events['cnts_ONLINE PURCH'] = np.where(events['event'] == 'ONLINE PURCH', events['cnts'], 0)   \n",
    "events['cnts_SENT'] = np.where(events['event'] == 'SENT', events['cnts'], 0)   "
   ]
  },
  {
   "cell_type": "code",
   "execution_count": 18,
   "metadata": {
    "collapsed": true
   },
   "outputs": [],
   "source": [
    "events1 = events.groupby(['riid','event_captured_dt']).agg({'cnts_OPEN':sum,      # find the sum of the durations for each group\n",
    "                                     'cnts_CLICK': sum, # find the number of network type entries\n",
    "                                     'cnts_ONLINE PURCH': sum,\n",
    "                           'cnts_SENT': sum}, as_index =False).reset_index()"
   ]
  },
  {
   "cell_type": "code",
   "execution_count": 19,
   "metadata": {
    "collapsed": true
   },
   "outputs": [],
   "source": [
    "events1['cnts_OPEN_csum'] = events1.sort_values([\"riid\",\"event_captured_dt\"]).groupby(['riid'])['cnts_OPEN'].apply(lambda x: x.cumsum())\n",
    "events1['cnts_CLICK_csum'] = events1.sort_values([\"riid\",\"event_captured_dt\"]).groupby(['riid'])['cnts_CLICK'].apply(lambda x: x.cumsum())\n",
    "events1['cnts_ONLINE PURCH_csum'] = events1.sort_values([\"riid\",\"event_captured_dt\"]).groupby(['riid'])['cnts_ONLINE PURCH'].apply(lambda x: x.cumsum())\n",
    "events1['cnts_SENT_csum'] = events1.sort_values([\"riid\",\"event_captured_dt\"]).groupby(['riid'])['cnts_SENT'].apply(lambda x: x.cumsum())"
   ]
  },
  {
   "cell_type": "code",
   "execution_count": 20,
   "metadata": {
    "collapsed": true
   },
   "outputs": [],
   "source": [
    "events_sum_2018 = events1[events1['event_captured_dt'] > '2017-12-31']"
   ]
  },
  {
   "cell_type": "code",
   "execution_count": 21,
   "metadata": {
    "collapsed": true
   },
   "outputs": [],
   "source": [
    "final = pd.merge(Sends_ctype_uinfo,events_sum_2018, how ='left', left_on = ['riid','campaign_send_dt'], right_on =['riid','event_captured_dt'], indicator ='True')"
   ]
  },
  {
   "cell_type": "code",
   "execution_count": 22,
   "metadata": {
    "collapsed": true
   },
   "outputs": [],
   "source": [
    "columns_todrop = ['launch_id', 'event_captured_dt', 'cnts_OPEN', 'cnts_CLICK', 'cnts_ONLINE PURCH', 'cnts_SENT', 'True']\n",
    "final.drop(columns_todrop, axis = 1, inplace = True)"
   ]
  },
  {
   "cell_type": "code",
   "execution_count": 23,
   "metadata": {
    "collapsed": true
   },
   "outputs": [],
   "source": [
    "# feature engineering\n",
    "import datetime\n",
    "import time\n",
    "final['tenure'] = pd.to_datetime(final['campaign_send_dt']) - pd.to_datetime(final['aq_dt']) \n",
    "final['tenure'].fillna(0)\n",
    "final['tenure'] =  (final['tenure'] / np.timedelta64(1, 'D')).astype(int)\n",
    "final['weekday_type'] = final['campaign_send_dt'].apply(lambda x: datetime.datetime.strptime(x[:10], '%Y-%m-%d').date().isoweekday())\n",
    "\n",
    "\n",
    "final = final.sort_values(by= \"campaign_send_dt\").reset_index(drop=True)\n",
    "final[\"user_cum_count\"] = final.groupby('riid').cumcount()\n",
    "\n",
    "final[\"campaign_send_dt\"] = pd.to_datetime(final[\"campaign_send_dt\"], format=\"%Y-%m-%d\")\n",
    "final[\"ordinal_date\"] = final[\"campaign_send_dt\"].apply(lambda x: time.mktime(x.timetuple()))\n",
    "\n",
    "\n",
    "final[\"user_prev_date\"] = final.groupby(\"riid\")[\"campaign_send_dt\"].shift(1)\n",
    "final[\"user_date_diff\"] = pd.to_datetime(final[\"campaign_send_dt\"]) - pd.to_datetime(final[\"user_prev_date\"])\n",
    "\n",
    "\n",
    "\n",
    "gdf = final.groupby(\"riid\")[\"ordinal_date\"].agg([\"min\", \"mean\", \"max\", \"std\"]).reset_index()\n",
    "gdf.columns = [\"riid\", \"user_min_date\", \"user_mean_date\", \"user_max_date\", \"user_std_date\"]\n",
    "final = pd.merge(final, gdf, on=\"riid\")\n"
   ]
  },
  {
   "cell_type": "code",
   "execution_count": 24,
   "metadata": {
    "collapsed": true
   },
   "outputs": [],
   "source": [
    "# One hot encoding of categorical variables\n",
    "\n",
    "cols_to_transform = ['camptype','sub_source', 'weekday_type']\n",
    "df_with_dummies = pd.get_dummies( final[['opened','campaign_send_dt',\n",
    " 'camptype',\n",
    " 'sub_source',\n",
    " 'cnts_OPEN_csum',\n",
    " 'cnts_CLICK_csum',\n",
    " 'cnts_ONLINE PURCH_csum',\n",
    " 'cnts_SENT_csum',\n",
    " 'tenure',\n",
    " 'weekday_type',\n",
    " 'user_cum_count',\n",
    " 'user_date_diff',\n",
    " 'user_min_date',\n",
    " 'user_mean_date',\n",
    " 'user_max_date',\n",
    " 'user_std_date']], columns = cols_to_transform )"
   ]
  },
  {
   "cell_type": "code",
   "execution_count": 25,
   "metadata": {
    "collapsed": true
   },
   "outputs": [],
   "source": [
    "columns = [\n",
    " 'camptype_Heavy Promo',\n",
    " 'camptype_Heavy Promo - Dedicated Messaging',\n",
    " 'camptype_Heavy Promo - Secondary Messaging',\n",
    " 'camptype_Light Promo',\n",
    " 'camptype_Light Promo - Secondary Messaging',\n",
    " 'camptype_No Promo',\n",
    " 'sub_source_Checkout_Online',\n",
    " 'sub_source_Facebook CPL_Online',\n",
    " 'sub_source_Footer_Desktop',\n",
    " 'sub_source_Footer_Mobile',\n",
    " 'sub_source_Join_Desktop',\n",
    " 'sub_source_Join_Mobile',\n",
    " 'sub_source_Lightbox_Desktop',\n",
    " 'sub_source_Lightbox_Mobile',\n",
    " 'sub_source_My Account_Desktop',\n",
    " 'sub_source_My Account_Mobile',\n",
    " 'sub_source_Other_Other',\n",
    " 'sub_source_POS form_Physical',\n",
    " 'sub_source_Sports/Brand_Online',\n",
    " 'sub_source_Warehouse_Desktop',\n",
    " 'sub_source_Warehouse_Mobile',\n",
    " 'sub_source_eReceipt_Physical',\n",
    " 'weekday_type_1',\n",
    " 'weekday_type_2',\n",
    " 'weekday_type_3',\n",
    " 'weekday_type_4',\n",
    " 'weekday_type_5',\n",
    " 'weekday_type_7'\n",
    "    \n",
    "]\n",
    "\n",
    "for col in columns:\n",
    "    df_with_dummies[col] = df_with_dummies[col].astype('category')\n",
    "\n"
   ]
  },
  {
   "cell_type": "code",
   "execution_count": 26,
   "metadata": {
    "collapsed": true
   },
   "outputs": [],
   "source": [
    "df_with_dummies.fillna(0, inplace=True)\n",
    "df_with_dummies['user_date_diff'] =  (df_with_dummies['user_date_diff'] / np.timedelta64(1, 'D')).astype(int)"
   ]
  },
  {
   "cell_type": "code",
   "execution_count": 27,
   "metadata": {
    "collapsed": true
   },
   "outputs": [],
   "source": [
    "final_train = df_with_dummies[df_with_dummies['campaign_send_dt'] <= '2018-02-15']\n",
    "\n",
    "final_test = df_with_dummies[df_with_dummies['campaign_send_dt'] > '2018-02-15']"
   ]
  },
  {
   "cell_type": "code",
   "execution_count": 28,
   "metadata": {
    "collapsed": true
   },
   "outputs": [],
   "source": [
    "X_train_col = ['cnts_OPEN_csum',\n",
    " 'cnts_CLICK_csum',\n",
    " 'cnts_ONLINE PURCH_csum',\n",
    " 'cnts_SENT_csum',\n",
    " 'tenure',\n",
    " 'user_cum_count',\n",
    " 'user_date_diff',\n",
    " 'user_min_date',\n",
    " 'user_mean_date',\n",
    " 'user_max_date',\n",
    " 'user_std_date',\n",
    " 'camptype_Heavy Promo',\n",
    " 'camptype_Heavy Promo - Dedicated Messaging',\n",
    " 'camptype_Heavy Promo - Secondary Messaging',\n",
    " 'camptype_Light Promo',\n",
    " 'camptype_Light Promo - Secondary Messaging',\n",
    " 'camptype_No Promo',\n",
    " 'sub_source_Checkout_Online',\n",
    " 'sub_source_Facebook CPL_Online',\n",
    " 'sub_source_Footer_Desktop',\n",
    " 'sub_source_Footer_Mobile',\n",
    " 'sub_source_Join_Desktop',\n",
    " 'sub_source_Join_Mobile',\n",
    " 'sub_source_Lightbox_Desktop',\n",
    " 'sub_source_Lightbox_Mobile',\n",
    " 'sub_source_My Account_Desktop',\n",
    " 'sub_source_My Account_Mobile',\n",
    " 'sub_source_Other_Other',\n",
    " 'sub_source_POS form_Physical',\n",
    " 'sub_source_Sports/Brand_Online',\n",
    " 'sub_source_Warehouse_Desktop',\n",
    " 'sub_source_Warehouse_Mobile',\n",
    " 'sub_source_eReceipt_Physical',\n",
    " 'weekday_type_1',\n",
    " 'weekday_type_2',\n",
    " 'weekday_type_3',\n",
    " 'weekday_type_4',\n",
    " 'weekday_type_5',\n",
    " 'weekday_type_7']\n",
    "# Fit and transform x to visualise inside a 2D feature space\n",
    "# Instanciate a PCA object for the sake of easy visualisation\n",
    "\n",
    "X_train = final_train[X_train_col].values\n",
    "X_test = final_test[X_train_col].values\n",
    "\n",
    "\n",
    "y_train = final_train['opened'].values\n",
    "y_test = final_test['opened'].values"
   ]
  },
  {
   "cell_type": "markdown",
   "metadata": {},
   "source": [
    "### resampling techniques"
   ]
  },
  {
   "cell_type": "code",
   "execution_count": 24,
   "metadata": {
    "collapsed": true
   },
   "outputs": [],
   "source": [
    "from sklearn import metrics \n",
    "from collections import Counter\n",
    "\n",
    "from imblearn.over_sampling import RandomOverSampler, SMOTE, ADASYN\n",
    "from imblearn.under_sampling import RandomUnderSampler, NearMiss, TomekLinks, EditedNearestNeighbours\n",
    "\n",
    "def model_resampling_pipeline_xgb(X_train, X_test, y_train, y_test):\n",
    "    results = {'ordinary': {},\n",
    "               'class_weight': {},\n",
    "               'oversample': {},\n",
    "               'undersample': {},\n",
    "              'combined' : {}}\n",
    "    \n",
    "    # ------ No balancing ------\n",
    "    dtrain = xgb.DMatrix(X_train, label=y_train)\n",
    "    dtest = xgb.DMatrix(X_test)\n",
    "    bst = xgb.train(params, dtrain, num_rounds)\n",
    "    predictions = (bst.predict(dtest) > 0.5).astype('int')\n",
    "    accuracy = metrics.accuracy_score(y_test, predictions)\n",
    "    precision, recall, fscore, support = metrics.precision_recall_fscore_support(y_test, predictions)\n",
    "    tn, fp, fn, tp = metrics.confusion_matrix(y_test, predictions).ravel()\n",
    "    fpr, tpr, thresholds = metrics.roc_curve(y_test, predictions, pos_label=1)\n",
    "    auc = metrics.auc(fpr, tpr)\n",
    "\n",
    "    results['ordinary'] = {'accuracy': accuracy, \n",
    "                                                'precision': precision, \n",
    "                                                'recall': recall,\n",
    "                                                'fscore': fscore, \n",
    "                                                'n_occurences': support,\n",
    "                                                'predictions_count': Counter(predictions),\n",
    "                                                'tp': tp, 'tn': tn, 'fp': fp, 'fn': fn,\n",
    "                                                'auc': auc}\n",
    "\n",
    "    \n",
    "    \n",
    "    \n",
    "    # ------------ OVERSAMPLING TECHNIQUES ------------\n",
    "    print('------ Oversampling methods ------')\n",
    "    techniques = [RandomOverSampler(),\n",
    "                  SMOTE(),\n",
    "                  ADASYN()]\n",
    "    \n",
    "    for sampler in techniques:\n",
    "        technique1 = sampler.__class__.__name__\n",
    "        print(\"Technique:%s\" % technique1)\n",
    "        print (\"Before resampling: %s\" % sorted(Counter(y_train).items()))\n",
    "        X_resampled, y_resampled = sampler.fit_sample(X_train, y_train)\n",
    "        print (\"After resampling : %s\" % sorted(Counter(y_resampled).items()))\n",
    "\n",
    "\n",
    "        dtrain = xgb.DMatrix(X_resampled, label=y_resampled)\n",
    "        dtest = xgb.DMatrix(X_test)\n",
    "        bst = xgb.train(params, dtrain, num_rounds)\n",
    "        \n",
    "        importance = gbdt.get_fscore(fmap='xgb.fmap')\n",
    "        importance = sorted(importance.items(), key=operator.itemgetter(1))\n",
    "\n",
    "        df = pd.DataFrame(importance, columns=['feature', 'fscore'])\n",
    "        df['fscore'] = df['fscore'] / df['fscore'].sum()\n",
    "\n",
    "        plt.figure()\n",
    "        df.plot()\n",
    "        df.plot(kind='barh', x='feature', y='fscore', legend=False, figsize=(6, 10))\n",
    "        plt.title('XGBoost Feature Importance')\n",
    "        plt.xlabel('relative importance')\n",
    "        plt.gcf().savefig('feature_importance_xgb.png')\n",
    " \n",
    "        \n",
    "        \n",
    "        predictions = (bst.predict(dtest) > 0.5).astype('int')\n",
    "        accuracy = metrics.accuracy_score(y_test, predictions)\n",
    "        precision, recall, fscore, support = metrics.precision_recall_fscore_support(y_test, predictions)\n",
    "        tn, fp, fn, tp = metrics.confusion_matrix(y_test, predictions).ravel()\n",
    "        fpr, tpr, thresholds = metrics.roc_curve(y_test, predictions, pos_label=1)\n",
    "        auc = metrics.auc(fpr, tpr)\n",
    "\n",
    "        results['oversample'][technique1] = {'accuracy': accuracy, \n",
    "                                                    'precision': precision, \n",
    "                                                    'recall': recall,\n",
    "                                                    'fscore': fscore, \n",
    "                                                    'n_occurences': support,\n",
    "                                                    'predictions_count': Counter(predictions),\n",
    "                                                    'tp': tp, 'tn': tn, 'fp': fp, 'fn': fn,\n",
    "                                                    'auc': auc}\n",
    "    \n",
    "    # ------------ UNDERSAMPLING TECHNIQUES ------------\n",
    "    print('------ Undersampling methods ------')\n",
    "    techniques = [RandomUnderSampler(),\n",
    "                  NearMiss(version=1),\n",
    "                  NearMiss(version=2),\n",
    "                  TomekLinks(),\n",
    "                  EditedNearestNeighbours()]\n",
    "    \n",
    "    \n",
    "    \n",
    "    for sampler in techniques:\n",
    "        technique1 = sampler.__class__.__name__\n",
    "        if technique1 == 'NearMiss': technique1+=str(sampler.version)\n",
    "        print(\"Technique:%s\" % technique1)\n",
    "        print (\"Before resampling: %s\" % sorted(Counter(y_train).items()))\n",
    "        X_resampled, y_resampled = sampler.fit_sample(X_train, y_train)\n",
    "        print (\"After resampling : %s\" % sorted(Counter(y_resampled).items()))\n",
    "\n",
    "        dtrain = xgb.DMatrix(X_resampled, label=y_resampled)\n",
    "        dtest = xgb.DMatrix(X_test)\n",
    "        bst = xgb.train(params, dtrain, num_rounds)\n",
    "       \n",
    "        \n",
    "        \n",
    "        \n",
    "        predictions = (bst.predict(dtest) > 0.5).astype('int')\n",
    "        accuracy = metrics.accuracy_score(y_test, predictions)\n",
    "        precision, recall, fscore, support = metrics.precision_recall_fscore_support(y_test, predictions)\n",
    "        tn, fp, fn, tp = metrics.confusion_matrix(y_test, predictions).ravel()\n",
    "        fpr, tpr, thresholds = metrics.roc_curve(y_test, predictions, pos_label=1)\n",
    "        auc = metrics.auc(fpr, tpr)\n",
    "\n",
    "        results['undersample'][technique1] = {'accuracy': accuracy, \n",
    "                                                    'precision': precision, \n",
    "                                                    'recall': recall,\n",
    "                                                    'fscore': fscore, \n",
    "                                                    'n_occurences': support,\n",
    "                                                    'predictions_count': Counter(predictions),\n",
    "                                                    'tp': tp, 'tn': tn, 'fp': fp, 'fn': fn,\n",
    "                                                    'auc': auc}        \n",
    "        # ------------ Combined TECHNIQUES ------------\n",
    "    print('------ combined methods ------')\n",
    "    techniques = [SMOTEENN(),\n",
    "                   SMOTETomek()\n",
    "                 ]\n",
    "    \n",
    "    for sampler in techniques:\n",
    "        technique1 = sampler.__class__.__name__\n",
    "        if technique1 == 'NearMiss': technique1+=str(sampler.version)\n",
    "        print(\"Technique:%s\" % technique1)\n",
    "        print (\"Before resampling: %s\" % sorted(Counter(y_train).items()))\n",
    "        X_resampled, y_resampled = sampler.fit_sample(X_train, y_train)\n",
    "        print (\"After resampling : %s\" % sorted(Counter(y_resampled).items()))\n",
    "\n",
    "        dtrain = xgb.DMatrix(X_resampled, label=y_resampled)\n",
    "        dtest = xgb.DMatrix(X_test)\n",
    "        bst = xgb.train(params, dtrain, num_rounds)\n",
    "        predictions = (bst.predict(dtest) > 0.5).astype('int')\n",
    "        accuracy = metrics.accuracy_score(y_test, predictions)\n",
    "        precision, recall, fscore, support = metrics.precision_recall_fscore_support(y_test, predictions)\n",
    "        tn, fp, fn, tp = metrics.confusion_matrix(y_test, predictions).ravel()\n",
    "        fpr, tpr, thresholds = metrics.roc_curve(y_test, predictions, pos_label=1)\n",
    "        auc = metrics.auc(fpr, tpr)\n",
    "\n",
    "        results['combined'][technique1] = {'accuracy': accuracy, \n",
    "                                                    'precision': precision, \n",
    "                                                    'recall': recall,\n",
    "                                                    'fscore': fscore, \n",
    "                                                    'n_occurences': support,\n",
    "                                                    'predictions_count': Counter(predictions),\n",
    "                                                    'tp': tp, 'tn': tn, 'fp': fp, 'fn': fn,\n",
    "                                                    'auc': auc}        \n",
    "\n",
    "\n",
    "    return results"
   ]
  },
  {
   "cell_type": "code",
   "execution_count": 25,
   "metadata": {
    "collapsed": true
   },
   "outputs": [],
   "source": [
    "def evaluate_method(results, method, metrics = ['precision', 'recall', 'fscore']):\n",
    "    fig, ax = plt.subplots(1, 7, sharey=True, figsize=(16, 6))\n",
    "    \n",
    "    for i, metric in enumerate(metrics):\n",
    "        ax[i*2].axhline(results['ordinary'][metric][0], label='No Resampling')\n",
    "        ax[i*2+1].axhline(results['ordinary'][metric][1], label='No Resampling')\n",
    "        \n",
    "        if results['class_weight']:\n",
    "            ax[i*2].bar(0, results['class_weight'][metric][0], label='Adjust Class Weight')\n",
    "            ax[i*2+1].bar(0, results['class_weight'][metric][1], label='Adjust Class Weight')\n",
    "            \n",
    "        ax[0].legend(loc='upper center', bbox_to_anchor=(9, 1.01),\n",
    "                     ncol=1, fancybox=True, shadow=True)\n",
    "        \n",
    "        for j, (technique, result) in enumerate(results[method].items()):\n",
    "            ax[i*2].bar(j+1, result[metric][0], label=technique)\n",
    "            \n",
    "            ax[i*2+1].bar(j+1, result[metric][1], label=technique)\n",
    "        \n",
    "        \n",
    "        ax[i*2].set_title(\"not opened: %s\"  % metric)\n",
    "        ax[i*2+1].set_title(\"opened: %s\" % metric)\n",
    "    \n",
    "    # AUC vis\n",
    "    ax[6].set_title(\"Area under curve\")\n",
    "    ax[6].axhline(results['ordinary']['auc'], label='No Resampling')\n",
    "    if results['class_weight']:\n",
    "        ax[6].bar(0, results['class_weight']['auc'], label='Adjust Class Weight')\n",
    "    for j, (technique, result) in enumerate(results[method].items()):\n",
    "        ax[6].bar(j+1, result['auc'], label=technique)"
   ]
  },
  {
   "cell_type": "code",
   "execution_count": 76,
   "metadata": {
    "collapsed": true
   },
   "outputs": [],
   "source": [
    "def evaluate_method_optout(results, method, metrics = ['precision', 'recall', 'fscore']):\n",
    "    fig, ax = plt.subplots(1, 7, sharey=True, figsize=(16, 6))\n",
    "    \n",
    "    for i, metric in enumerate(metrics):\n",
    "        ax[i*2].axhline(results['ordinary'][metric][0], label='No Resampling')\n",
    "        ax[i*2+1].axhline(results['ordinary'][metric][1], label='No Resampling')\n",
    "        \n",
    "        if results['class_weight']:\n",
    "            ax[i*2].bar(0, results['class_weight'][metric][0], label='Adjust Class Weight')\n",
    "            ax[i*2+1].bar(0, results['class_weight'][metric][1], label='Adjust Class Weight')\n",
    "            \n",
    "        ax[0].legend(loc='upper center', bbox_to_anchor=(9, 1.01),\n",
    "                     ncol=1, fancybox=True, shadow=True)\n",
    "        \n",
    "        for j, (technique, result) in enumerate(results[method].items()):\n",
    "            ax[i*2].bar(j+1, result[metric][0], label=technique)\n",
    "            \n",
    "            ax[i*2+1].bar(j+1, result[metric][1], label=technique)\n",
    "        \n",
    "        \n",
    "        ax[i*2].set_title(\"not optout: %s\"  % metric)\n",
    "        ax[i*2+1].set_title(\"optout: %s\" % metric)\n",
    "    \n",
    "    # AUC vis\n",
    "    ax[6].set_title(\"Area under curve\")\n",
    "    ax[6].axhline(results['ordinary']['auc'], label='No Resampling')\n",
    "    if results['class_weight']:\n",
    "        ax[6].bar(0, results['class_weight']['auc'], label='Adjust Class Weight')\n",
    "    for j, (technique, result) in enumerate(results[method].items()):\n",
    "        ax[6].bar(j+1, result['auc'], label=technique)"
   ]
  },
  {
   "cell_type": "code",
   "execution_count": 26,
   "metadata": {},
   "outputs": [
    {
     "name": "stderr",
     "output_type": "stream",
     "text": [
      "/Users/arg000m/anaconda/lib/python2.7/site-packages/sklearn/cross_validation.py:41: DeprecationWarning: This module was deprecated in version 0.18 in favor of the model_selection module into which all the refactored classes and functions are moved. Also note that the interface of the new CV iterators are different from that of this module. This module will be removed in 0.20.\n",
      "  \"This module will be removed in 0.20.\", DeprecationWarning)\n"
     ]
    },
    {
     "name": "stdout",
     "output_type": "stream",
     "text": [
      "------ Oversampling methods ------\n",
      "Technique:RandomOverSampler\n",
      "Before resampling: [(0, 59260), (1, 14119)]\n",
      "After resampling : [(0, 59260), (1, 59260)]\n",
      "Technique:SMOTE\n",
      "Before resampling: [(0, 59260), (1, 14119)]\n",
      "After resampling : [(0, 59260), (1, 59260)]\n",
      "Technique:ADASYN\n",
      "Before resampling: [(0, 59260), (1, 14119)]\n",
      "After resampling : [(0, 59260), (1, 60741)]\n",
      "------ Undersampling methods ------\n",
      "Technique:RandomUnderSampler\n",
      "Before resampling: [(0, 59260), (1, 14119)]\n",
      "After resampling : [(0, 14119), (1, 14119)]\n",
      "Technique:NearMiss1\n",
      "Before resampling: [(0, 59260), (1, 14119)]\n",
      "After resampling : [(0, 14119), (1, 14119)]\n",
      "Technique:NearMiss2\n",
      "Before resampling: [(0, 59260), (1, 14119)]\n"
     ]
    },
    {
     "ename": "KeyboardInterrupt",
     "evalue": "",
     "output_type": "error",
     "traceback": [
      "\u001b[0;31m---------------------------------------------------------------------------\u001b[0m",
      "\u001b[0;31mKeyboardInterrupt\u001b[0m                         Traceback (most recent call last)",
      "\u001b[0;32m<ipython-input-26-d3561b7e1584>\u001b[0m in \u001b[0;36m<module>\u001b[0;34m()\u001b[0m\n\u001b[1;32m     23\u001b[0m \u001b[0;34m\u001b[0m\u001b[0m\n\u001b[1;32m     24\u001b[0m \u001b[0mnum_rounds\u001b[0m \u001b[0;34m=\u001b[0m \u001b[0;36m15\u001b[0m\u001b[0;34m\u001b[0m\u001b[0m\n\u001b[0;32m---> 25\u001b[0;31m \u001b[0mresults\u001b[0m \u001b[0;34m=\u001b[0m \u001b[0mmodel_resampling_pipeline_xgb\u001b[0m\u001b[0;34m(\u001b[0m\u001b[0mX_train\u001b[0m\u001b[0;34m,\u001b[0m \u001b[0mX_test\u001b[0m\u001b[0;34m,\u001b[0m \u001b[0my_train\u001b[0m\u001b[0;34m,\u001b[0m \u001b[0my_test\u001b[0m\u001b[0;34m)\u001b[0m\u001b[0;34m\u001b[0m\u001b[0m\n\u001b[0m",
      "\u001b[0;32m<ipython-input-24-8d9649d13c6e>\u001b[0m in \u001b[0;36mmodel_resampling_pipeline_xgb\u001b[0;34m(X_train, X_test, y_train, y_test)\u001b[0m\n\u001b[1;32m     83\u001b[0m         \u001b[0;32mprint\u001b[0m\u001b[0;34m(\u001b[0m\u001b[0;34m\"Technique:%s\"\u001b[0m \u001b[0;34m%\u001b[0m \u001b[0mtechnique1\u001b[0m\u001b[0;34m)\u001b[0m\u001b[0;34m\u001b[0m\u001b[0m\n\u001b[1;32m     84\u001b[0m         \u001b[0;32mprint\u001b[0m \u001b[0;34m(\u001b[0m\u001b[0;34m\"Before resampling: %s\"\u001b[0m \u001b[0;34m%\u001b[0m \u001b[0msorted\u001b[0m\u001b[0;34m(\u001b[0m\u001b[0mCounter\u001b[0m\u001b[0;34m(\u001b[0m\u001b[0my_train\u001b[0m\u001b[0;34m)\u001b[0m\u001b[0;34m.\u001b[0m\u001b[0mitems\u001b[0m\u001b[0;34m(\u001b[0m\u001b[0;34m)\u001b[0m\u001b[0;34m)\u001b[0m\u001b[0;34m)\u001b[0m\u001b[0;34m\u001b[0m\u001b[0m\n\u001b[0;32m---> 85\u001b[0;31m         \u001b[0mX_resampled\u001b[0m\u001b[0;34m,\u001b[0m \u001b[0my_resampled\u001b[0m \u001b[0;34m=\u001b[0m \u001b[0msampler\u001b[0m\u001b[0;34m.\u001b[0m\u001b[0mfit_sample\u001b[0m\u001b[0;34m(\u001b[0m\u001b[0mX_train\u001b[0m\u001b[0;34m,\u001b[0m \u001b[0my_train\u001b[0m\u001b[0;34m)\u001b[0m\u001b[0;34m\u001b[0m\u001b[0m\n\u001b[0m\u001b[1;32m     86\u001b[0m         \u001b[0;32mprint\u001b[0m \u001b[0;34m(\u001b[0m\u001b[0;34m\"After resampling : %s\"\u001b[0m \u001b[0;34m%\u001b[0m \u001b[0msorted\u001b[0m\u001b[0;34m(\u001b[0m\u001b[0mCounter\u001b[0m\u001b[0;34m(\u001b[0m\u001b[0my_resampled\u001b[0m\u001b[0;34m)\u001b[0m\u001b[0;34m.\u001b[0m\u001b[0mitems\u001b[0m\u001b[0;34m(\u001b[0m\u001b[0;34m)\u001b[0m\u001b[0;34m)\u001b[0m\u001b[0;34m)\u001b[0m\u001b[0;34m\u001b[0m\u001b[0m\n\u001b[1;32m     87\u001b[0m \u001b[0;34m\u001b[0m\u001b[0m\n",
      "\u001b[0;32m/Users/arg000m/anaconda/lib/python2.7/site-packages/imblearn/base.pyc\u001b[0m in \u001b[0;36mfit_sample\u001b[0;34m(self, X, y)\u001b[0m\n\u001b[1;32m     86\u001b[0m         \"\"\"\n\u001b[1;32m     87\u001b[0m \u001b[0;34m\u001b[0m\u001b[0m\n\u001b[0;32m---> 88\u001b[0;31m         \u001b[0;32mreturn\u001b[0m \u001b[0mself\u001b[0m\u001b[0;34m.\u001b[0m\u001b[0mfit\u001b[0m\u001b[0;34m(\u001b[0m\u001b[0mX\u001b[0m\u001b[0;34m,\u001b[0m \u001b[0my\u001b[0m\u001b[0;34m)\u001b[0m\u001b[0;34m.\u001b[0m\u001b[0msample\u001b[0m\u001b[0;34m(\u001b[0m\u001b[0mX\u001b[0m\u001b[0;34m,\u001b[0m \u001b[0my\u001b[0m\u001b[0;34m)\u001b[0m\u001b[0;34m\u001b[0m\u001b[0m\n\u001b[0m\u001b[1;32m     89\u001b[0m \u001b[0;34m\u001b[0m\u001b[0m\n\u001b[1;32m     90\u001b[0m     \u001b[0;34m@\u001b[0m\u001b[0mabstractmethod\u001b[0m\u001b[0;34m\u001b[0m\u001b[0m\n",
      "\u001b[0;32m/Users/arg000m/anaconda/lib/python2.7/site-packages/imblearn/base.pyc\u001b[0m in \u001b[0;36msample\u001b[0;34m(self, X, y)\u001b[0m\n\u001b[1;32m     62\u001b[0m         \u001b[0mself\u001b[0m\u001b[0;34m.\u001b[0m\u001b[0m_check_X_y\u001b[0m\u001b[0;34m(\u001b[0m\u001b[0mX\u001b[0m\u001b[0;34m,\u001b[0m \u001b[0my\u001b[0m\u001b[0;34m)\u001b[0m\u001b[0;34m\u001b[0m\u001b[0m\n\u001b[1;32m     63\u001b[0m \u001b[0;34m\u001b[0m\u001b[0m\n\u001b[0;32m---> 64\u001b[0;31m         \u001b[0;32mreturn\u001b[0m \u001b[0mself\u001b[0m\u001b[0;34m.\u001b[0m\u001b[0m_sample\u001b[0m\u001b[0;34m(\u001b[0m\u001b[0mX\u001b[0m\u001b[0;34m,\u001b[0m \u001b[0my\u001b[0m\u001b[0;34m)\u001b[0m\u001b[0;34m\u001b[0m\u001b[0m\n\u001b[0m\u001b[1;32m     65\u001b[0m \u001b[0;34m\u001b[0m\u001b[0m\n\u001b[1;32m     66\u001b[0m     \u001b[0;32mdef\u001b[0m \u001b[0mfit_sample\u001b[0m\u001b[0;34m(\u001b[0m\u001b[0mself\u001b[0m\u001b[0;34m,\u001b[0m \u001b[0mX\u001b[0m\u001b[0;34m,\u001b[0m \u001b[0my\u001b[0m\u001b[0;34m)\u001b[0m\u001b[0;34m:\u001b[0m\u001b[0;34m\u001b[0m\u001b[0m\n",
      "\u001b[0;32m/Users/arg000m/anaconda/lib/python2.7/site-packages/imblearn/under_sampling/prototype_selection/nearmiss.pyc\u001b[0m in \u001b[0;36m_sample\u001b[0;34m(self, X, y)\u001b[0m\n\u001b[1;32m    287\u001b[0m                 \u001b[0;32melif\u001b[0m \u001b[0mself\u001b[0m\u001b[0;34m.\u001b[0m\u001b[0mversion\u001b[0m \u001b[0;34m==\u001b[0m \u001b[0;36m2\u001b[0m\u001b[0;34m:\u001b[0m\u001b[0;34m\u001b[0m\u001b[0m\n\u001b[1;32m    288\u001b[0m                     dist_vec, idx_vec = self.nn_.kneighbors(\n\u001b[0;32m--> 289\u001b[0;31m                         X_class, n_neighbors=target_stats[class_minority])\n\u001b[0m\u001b[1;32m    290\u001b[0m                     index_target_class = self._selection_dist_based(\n\u001b[1;32m    291\u001b[0m                         \u001b[0mX\u001b[0m\u001b[0;34m,\u001b[0m \u001b[0my\u001b[0m\u001b[0;34m,\u001b[0m \u001b[0mdist_vec\u001b[0m\u001b[0;34m,\u001b[0m \u001b[0mn_samples\u001b[0m\u001b[0;34m,\u001b[0m \u001b[0mtarget_class\u001b[0m\u001b[0;34m,\u001b[0m\u001b[0;34m\u001b[0m\u001b[0m\n",
      "\u001b[0;32m/Users/arg000m/anaconda/lib/python2.7/site-packages/sklearn/neighbors/base.pyc\u001b[0m in \u001b[0;36mkneighbors\u001b[0;34m(self, X, n_neighbors, return_distance)\u001b[0m\n\u001b[1;32m    383\u001b[0m                 delayed(self._tree.query, check_pickle=False)(\n\u001b[1;32m    384\u001b[0m                     X[s], n_neighbors, return_distance)\n\u001b[0;32m--> 385\u001b[0;31m                 \u001b[0;32mfor\u001b[0m \u001b[0ms\u001b[0m \u001b[0;32min\u001b[0m \u001b[0mgen_even_slices\u001b[0m\u001b[0;34m(\u001b[0m\u001b[0mX\u001b[0m\u001b[0;34m.\u001b[0m\u001b[0mshape\u001b[0m\u001b[0;34m[\u001b[0m\u001b[0;36m0\u001b[0m\u001b[0;34m]\u001b[0m\u001b[0;34m,\u001b[0m \u001b[0mn_jobs\u001b[0m\u001b[0;34m)\u001b[0m\u001b[0;34m\u001b[0m\u001b[0m\n\u001b[0m\u001b[1;32m    386\u001b[0m             )\n\u001b[1;32m    387\u001b[0m             \u001b[0;32mif\u001b[0m \u001b[0mreturn_distance\u001b[0m\u001b[0;34m:\u001b[0m\u001b[0;34m\u001b[0m\u001b[0m\n",
      "\u001b[0;32m/Users/arg000m/anaconda/lib/python2.7/site-packages/sklearn/externals/joblib/parallel.pyc\u001b[0m in \u001b[0;36m__call__\u001b[0;34m(self, iterable)\u001b[0m\n\u001b[1;32m    777\u001b[0m             \u001b[0;31m# was dispatched. In particular this covers the edge\u001b[0m\u001b[0;34m\u001b[0m\u001b[0;34m\u001b[0m\u001b[0m\n\u001b[1;32m    778\u001b[0m             \u001b[0;31m# case of Parallel used with an exhausted iterator.\u001b[0m\u001b[0;34m\u001b[0m\u001b[0;34m\u001b[0m\u001b[0m\n\u001b[0;32m--> 779\u001b[0;31m             \u001b[0;32mwhile\u001b[0m \u001b[0mself\u001b[0m\u001b[0;34m.\u001b[0m\u001b[0mdispatch_one_batch\u001b[0m\u001b[0;34m(\u001b[0m\u001b[0miterator\u001b[0m\u001b[0;34m)\u001b[0m\u001b[0;34m:\u001b[0m\u001b[0;34m\u001b[0m\u001b[0m\n\u001b[0m\u001b[1;32m    780\u001b[0m                 \u001b[0mself\u001b[0m\u001b[0;34m.\u001b[0m\u001b[0m_iterating\u001b[0m \u001b[0;34m=\u001b[0m \u001b[0mTrue\u001b[0m\u001b[0;34m\u001b[0m\u001b[0m\n\u001b[1;32m    781\u001b[0m             \u001b[0;32melse\u001b[0m\u001b[0;34m:\u001b[0m\u001b[0;34m\u001b[0m\u001b[0m\n",
      "\u001b[0;32m/Users/arg000m/anaconda/lib/python2.7/site-packages/sklearn/externals/joblib/parallel.pyc\u001b[0m in \u001b[0;36mdispatch_one_batch\u001b[0;34m(self, iterator)\u001b[0m\n\u001b[1;32m    623\u001b[0m                 \u001b[0;32mreturn\u001b[0m \u001b[0mFalse\u001b[0m\u001b[0;34m\u001b[0m\u001b[0m\n\u001b[1;32m    624\u001b[0m             \u001b[0;32melse\u001b[0m\u001b[0;34m:\u001b[0m\u001b[0;34m\u001b[0m\u001b[0m\n\u001b[0;32m--> 625\u001b[0;31m                 \u001b[0mself\u001b[0m\u001b[0;34m.\u001b[0m\u001b[0m_dispatch\u001b[0m\u001b[0;34m(\u001b[0m\u001b[0mtasks\u001b[0m\u001b[0;34m)\u001b[0m\u001b[0;34m\u001b[0m\u001b[0m\n\u001b[0m\u001b[1;32m    626\u001b[0m                 \u001b[0;32mreturn\u001b[0m \u001b[0mTrue\u001b[0m\u001b[0;34m\u001b[0m\u001b[0m\n\u001b[1;32m    627\u001b[0m \u001b[0;34m\u001b[0m\u001b[0m\n",
      "\u001b[0;32m/Users/arg000m/anaconda/lib/python2.7/site-packages/sklearn/externals/joblib/parallel.pyc\u001b[0m in \u001b[0;36m_dispatch\u001b[0;34m(self, batch)\u001b[0m\n\u001b[1;32m    586\u001b[0m         \u001b[0mdispatch_timestamp\u001b[0m \u001b[0;34m=\u001b[0m \u001b[0mtime\u001b[0m\u001b[0;34m.\u001b[0m\u001b[0mtime\u001b[0m\u001b[0;34m(\u001b[0m\u001b[0;34m)\u001b[0m\u001b[0;34m\u001b[0m\u001b[0m\n\u001b[1;32m    587\u001b[0m         \u001b[0mcb\u001b[0m \u001b[0;34m=\u001b[0m \u001b[0mBatchCompletionCallBack\u001b[0m\u001b[0;34m(\u001b[0m\u001b[0mdispatch_timestamp\u001b[0m\u001b[0;34m,\u001b[0m \u001b[0mlen\u001b[0m\u001b[0;34m(\u001b[0m\u001b[0mbatch\u001b[0m\u001b[0;34m)\u001b[0m\u001b[0;34m,\u001b[0m \u001b[0mself\u001b[0m\u001b[0;34m)\u001b[0m\u001b[0;34m\u001b[0m\u001b[0m\n\u001b[0;32m--> 588\u001b[0;31m         \u001b[0mjob\u001b[0m \u001b[0;34m=\u001b[0m \u001b[0mself\u001b[0m\u001b[0;34m.\u001b[0m\u001b[0m_backend\u001b[0m\u001b[0;34m.\u001b[0m\u001b[0mapply_async\u001b[0m\u001b[0;34m(\u001b[0m\u001b[0mbatch\u001b[0m\u001b[0;34m,\u001b[0m \u001b[0mcallback\u001b[0m\u001b[0;34m=\u001b[0m\u001b[0mcb\u001b[0m\u001b[0;34m)\u001b[0m\u001b[0;34m\u001b[0m\u001b[0m\n\u001b[0m\u001b[1;32m    589\u001b[0m         \u001b[0mself\u001b[0m\u001b[0;34m.\u001b[0m\u001b[0m_jobs\u001b[0m\u001b[0;34m.\u001b[0m\u001b[0mappend\u001b[0m\u001b[0;34m(\u001b[0m\u001b[0mjob\u001b[0m\u001b[0;34m)\u001b[0m\u001b[0;34m\u001b[0m\u001b[0m\n\u001b[1;32m    590\u001b[0m \u001b[0;34m\u001b[0m\u001b[0m\n",
      "\u001b[0;32m/Users/arg000m/anaconda/lib/python2.7/site-packages/sklearn/externals/joblib/_parallel_backends.pyc\u001b[0m in \u001b[0;36mapply_async\u001b[0;34m(self, func, callback)\u001b[0m\n\u001b[1;32m    109\u001b[0m     \u001b[0;32mdef\u001b[0m \u001b[0mapply_async\u001b[0m\u001b[0;34m(\u001b[0m\u001b[0mself\u001b[0m\u001b[0;34m,\u001b[0m \u001b[0mfunc\u001b[0m\u001b[0;34m,\u001b[0m \u001b[0mcallback\u001b[0m\u001b[0;34m=\u001b[0m\u001b[0mNone\u001b[0m\u001b[0;34m)\u001b[0m\u001b[0;34m:\u001b[0m\u001b[0;34m\u001b[0m\u001b[0m\n\u001b[1;32m    110\u001b[0m         \u001b[0;34m\"\"\"Schedule a func to be run\"\"\"\u001b[0m\u001b[0;34m\u001b[0m\u001b[0m\n\u001b[0;32m--> 111\u001b[0;31m         \u001b[0mresult\u001b[0m \u001b[0;34m=\u001b[0m \u001b[0mImmediateResult\u001b[0m\u001b[0;34m(\u001b[0m\u001b[0mfunc\u001b[0m\u001b[0;34m)\u001b[0m\u001b[0;34m\u001b[0m\u001b[0m\n\u001b[0m\u001b[1;32m    112\u001b[0m         \u001b[0;32mif\u001b[0m \u001b[0mcallback\u001b[0m\u001b[0;34m:\u001b[0m\u001b[0;34m\u001b[0m\u001b[0m\n\u001b[1;32m    113\u001b[0m             \u001b[0mcallback\u001b[0m\u001b[0;34m(\u001b[0m\u001b[0mresult\u001b[0m\u001b[0;34m)\u001b[0m\u001b[0;34m\u001b[0m\u001b[0m\n",
      "\u001b[0;32m/Users/arg000m/anaconda/lib/python2.7/site-packages/sklearn/externals/joblib/_parallel_backends.pyc\u001b[0m in \u001b[0;36m__init__\u001b[0;34m(self, batch)\u001b[0m\n\u001b[1;32m    330\u001b[0m         \u001b[0;31m# Don't delay the application, to avoid keeping the input\u001b[0m\u001b[0;34m\u001b[0m\u001b[0;34m\u001b[0m\u001b[0m\n\u001b[1;32m    331\u001b[0m         \u001b[0;31m# arguments in memory\u001b[0m\u001b[0;34m\u001b[0m\u001b[0;34m\u001b[0m\u001b[0m\n\u001b[0;32m--> 332\u001b[0;31m         \u001b[0mself\u001b[0m\u001b[0;34m.\u001b[0m\u001b[0mresults\u001b[0m \u001b[0;34m=\u001b[0m \u001b[0mbatch\u001b[0m\u001b[0;34m(\u001b[0m\u001b[0;34m)\u001b[0m\u001b[0;34m\u001b[0m\u001b[0m\n\u001b[0m\u001b[1;32m    333\u001b[0m \u001b[0;34m\u001b[0m\u001b[0m\n\u001b[1;32m    334\u001b[0m     \u001b[0;32mdef\u001b[0m \u001b[0mget\u001b[0m\u001b[0;34m(\u001b[0m\u001b[0mself\u001b[0m\u001b[0;34m)\u001b[0m\u001b[0;34m:\u001b[0m\u001b[0;34m\u001b[0m\u001b[0m\n",
      "\u001b[0;32m/Users/arg000m/anaconda/lib/python2.7/site-packages/sklearn/externals/joblib/parallel.pyc\u001b[0m in \u001b[0;36m__call__\u001b[0;34m(self)\u001b[0m\n\u001b[1;32m    129\u001b[0m \u001b[0;34m\u001b[0m\u001b[0m\n\u001b[1;32m    130\u001b[0m     \u001b[0;32mdef\u001b[0m \u001b[0m__call__\u001b[0m\u001b[0;34m(\u001b[0m\u001b[0mself\u001b[0m\u001b[0;34m)\u001b[0m\u001b[0;34m:\u001b[0m\u001b[0;34m\u001b[0m\u001b[0m\n\u001b[0;32m--> 131\u001b[0;31m         \u001b[0;32mreturn\u001b[0m \u001b[0;34m[\u001b[0m\u001b[0mfunc\u001b[0m\u001b[0;34m(\u001b[0m\u001b[0;34m*\u001b[0m\u001b[0margs\u001b[0m\u001b[0;34m,\u001b[0m \u001b[0;34m**\u001b[0m\u001b[0mkwargs\u001b[0m\u001b[0;34m)\u001b[0m \u001b[0;32mfor\u001b[0m \u001b[0mfunc\u001b[0m\u001b[0;34m,\u001b[0m \u001b[0margs\u001b[0m\u001b[0;34m,\u001b[0m \u001b[0mkwargs\u001b[0m \u001b[0;32min\u001b[0m \u001b[0mself\u001b[0m\u001b[0;34m.\u001b[0m\u001b[0mitems\u001b[0m\u001b[0;34m]\u001b[0m\u001b[0;34m\u001b[0m\u001b[0m\n\u001b[0m\u001b[1;32m    132\u001b[0m \u001b[0;34m\u001b[0m\u001b[0m\n\u001b[1;32m    133\u001b[0m     \u001b[0;32mdef\u001b[0m \u001b[0m__len__\u001b[0m\u001b[0;34m(\u001b[0m\u001b[0mself\u001b[0m\u001b[0;34m)\u001b[0m\u001b[0;34m:\u001b[0m\u001b[0;34m\u001b[0m\u001b[0m\n",
      "\u001b[0;31mKeyboardInterrupt\u001b[0m: "
     ]
    }
   ],
   "source": [
    "from imblearn.combine import SMOTETomek\n",
    "from imblearn.combine import SMOTEENN\n",
    "from imblearn.ensemble import EasyEnsemble \n",
    "import numpy as np\n",
    "import pandas as pd\n",
    "\n",
    "import xgboost as xgb\n",
    "\n",
    "from sklearn.datasets import make_classification\n",
    "from sklearn.metrics import accuracy_score, precision_score, recall_score\n",
    "from sklearn.cross_validation import train_test_split\n",
    "\n",
    "# reproducibility\n",
    "seed = 123\n",
    "params = {\n",
    "    'objective':'binary:logistic',\n",
    "    'max_depth':8,\n",
    "    'silent':1,\n",
    "    'eta':0.01,\n",
    "    \"subsample\" : 0.7,\n",
    "    \"min_child_weight\" : 10    \n",
    "}\n",
    "\n",
    "num_rounds = 15\n",
    "results = model_resampling_pipeline_xgb(X_train, X_test, y_train, y_test)"
   ]
  },
  {
   "cell_type": "code",
   "execution_count": 39,
   "metadata": {},
   "outputs": [
    {
     "data": {
      "image/png": "[encoded data removed]",
      "text/plain": [
       "<matplotlib.figure.Figure at 0x10f131c10>"
      ]
     },
     "metadata": {},
     "output_type": "display_data"
    }
   ],
   "source": [
    "evaluate_method(results, 'oversample')"
   ]
  },
  {
   "cell_type": "code",
   "execution_count": 40,
   "metadata": {},
   "outputs": [
    {
     "data": {
      "image/png": "[encoded data removed]",
      "text/plain": [
       "<matplotlib.figure.Figure at 0x10f131a90>"
      ]
     },
     "metadata": {},
     "output_type": "display_data"
    }
   ],
   "source": [
    "evaluate_method(results, 'undersample')"
   ]
  },
  {
   "cell_type": "code",
   "execution_count": 41,
   "metadata": {},
   "outputs": [
    {
     "data": {
      "image/png": "[encoded data removed]",
      "text/plain": [
       "<matplotlib.figure.Figure at 0x10f4da410>"
      ]
     },
     "metadata": {},
     "output_type": "display_data"
    }
   ],
   "source": [
    "evaluate_method(results, 'combined')"
   ]
  },
  {
   "cell_type": "code",
   "execution_count": 371,
   "metadata": {},
   "outputs": [
    {
     "data": {
      "text/plain": [
       "{'class_weight': {},\n",
       " 'combined': {'SMOTEENN': {'accuracy': 0.8404267307764547,\n",
       "   'auc': 0.7007968611888065,\n",
       "   'fn': 2300,\n",
       "   'fp': 1948,\n",
       "   'fscore': array([0.90471063, 0.50958208]),\n",
       "   'n_occurences': array([22114,  4507]),\n",
       "   'precision': array([0.89762307, 0.53116727]),\n",
       "   'predictions_count': Counter({0: 22466, 1: 4155}),\n",
       "   'recall': array([0.91191101, 0.48968272]),\n",
       "   'tn': 20166,\n",
       "   'tp': 2207},\n",
       "  'SMOTETomek': {'accuracy': 0.8492167837421585,\n",
       "   'auc': 0.6789707995756061,\n",
       "   'fn': 2607,\n",
       "   'fp': 1407,\n",
       "   'fscore': array([0.9116404 , 0.48630663]),\n",
       "   'n_occurences': array([22114,  4507]),\n",
       "   'precision': array([0.88817878, 0.57453886]),\n",
       "   'predictions_count': Counter({0: 23314, 1: 3307}),\n",
       "   'recall': array([0.93637515, 0.42156645]),\n",
       "   'tn': 20707,\n",
       "   'tp': 1900}},\n",
       " 'ordinary': {'accuracy': 0.8612749333233162,\n",
       "  'auc': 0.6760708759713945,\n",
       "  'fn': 2722,\n",
       "  'fp': 971,\n",
       "  'fscore': array([0.91968072, 0.49153242]),\n",
       "  'n_occurences': array([22114,  4507]),\n",
       "  'precision': array([0.88594176, 0.64767779]),\n",
       "  'predictions_count': Counter({0: 23865, 1: 2756}),\n",
       "  'recall': array([0.95609116, 0.39605059]),\n",
       "  'tn': 21143,\n",
       "  'tp': 1785},\n",
       " 'oversample': {'ADASYN': {'accuracy': 0.8483152398482401,\n",
       "   'auc': 0.6842578332070706,\n",
       "   'fn': 2541,\n",
       "   'fp': 1497,\n",
       "   'fscore': array([0.9108058 , 0.49335006]),\n",
       "   'n_occurences': array([22114,  4507]),\n",
       "   'precision': array([0.8902755 , 0.56771585]),\n",
       "   'predictions_count': Counter({0: 23158, 1: 3463}),\n",
       "   'recall': array([0.93230533, 0.43621034]),\n",
       "   'tn': 20617,\n",
       "   'tp': 1966},\n",
       "  'RandomOverSampler': {'accuracy': 0.7550054468276924,\n",
       "   'auc': 0.7629718276709595,\n",
       "   'fn': 1014,\n",
       "   'fp': 5508,\n",
       "   'fscore': array([0.83585846, 0.51717501]),\n",
       "   'n_occurences': array([22114,  4507]),\n",
       "   'precision': array([0.94245176, 0.38806799]),\n",
       "   'predictions_count': Counter({0: 17620, 1: 9001}),\n",
       "   'recall': array([0.75092701, 0.77501664]),\n",
       "   'tn': 16606,\n",
       "   'tp': 3493},\n",
       "  'SMOTE': {'accuracy': 0.8380977423838323,\n",
       "   'auc': 0.7041647694473996,\n",
       "   'fn': 2246,\n",
       "   'fp': 2064,\n",
       "   'fscore': array([0.90294979, 0.51200181]),\n",
       "   'n_occurences': array([22114,  4507]),\n",
       "   'precision': array([0.89926444, 0.52277457]),\n",
       "   'predictions_count': Counter({0: 22296, 1: 4325}),\n",
       "   'recall': array([0.90666546, 0.50166408]),\n",
       "   'tn': 20050,\n",
       "   'tp': 2261}},\n",
       " 'undersample': {'EditedNearestNeighbours': {'accuracy': 0.8365200405694753,\n",
       "   'auc': 0.7452594768874095,\n",
       "   'fn': 1770,\n",
       "   'fp': 2582,\n",
       "   'fscore': array([0.89976046, 0.55709343]),\n",
       "   'n_occurences': array([22114,  4507]),\n",
       "   'precision': array([0.91690921, 0.51457041]),\n",
       "   'predictions_count': Counter({0: 21302, 1: 5319}),\n",
       "   'recall': array([0.88324139, 0.60727757]),\n",
       "   'tn': 19532,\n",
       "   'tp': 2737},\n",
       "  'NearMiss1': {'accuracy': 0.5416024942714398,\n",
       "   'auc': 0.6475080647412317,\n",
       "   'fn': 867,\n",
       "   'fp': 11336,\n",
       "   'fscore': array([0.63852602, 0.37365909]),\n",
       "   'n_occurences': array([22114,  4507]),\n",
       "   'precision': array([0.92554745, 0.24305556]),\n",
       "   'predictions_count': Counter({0: 11645, 1: 14976}),\n",
       "   'recall': array([0.48738356, 0.80763257]),\n",
       "   'tn': 10778,\n",
       "   'tp': 3640},\n",
       "  'NearMiss2': {'accuracy': 0.19259231433830434,\n",
       "   'auc': 0.5106617886752148,\n",
       "   'fn': 38,\n",
       "   'fp': 21456,\n",
       "   'fscore': array([0.05769399, 0.293704  ]),\n",
       "   'n_occurences': array([22114,  4507]),\n",
       "   'precision': array([0.9454023 , 0.17238187]),\n",
       "   'predictions_count': Counter({0: 696, 1: 25925}),\n",
       "   'recall': array([0.02975491, 0.99156867]),\n",
       "   'tn': 658,\n",
       "   'tp': 4469},\n",
       "  'RandomUnderSampler': {'accuracy': 0.769317456143646,\n",
       "   'auc': 0.7670815301849049,\n",
       "   'fn': 1065,\n",
       "   'fp': 5076,\n",
       "   'fscore': array([0.84730338, 0.52852207]),\n",
       "   'n_occurences': array([22114,  4507]),\n",
       "   'precision': array([0.94116997, 0.40408547]),\n",
       "   'predictions_count': Counter({0: 18103, 1: 8518}),\n",
       "   'recall': array([0.77046215, 0.76370091]),\n",
       "   'tn': 17038,\n",
       "   'tp': 3442},\n",
       "  'TomekLinks': {'accuracy': 0.8606363397317907,\n",
       "   'auc': 0.6905256801198718,\n",
       "   'fn': 2554,\n",
       "   'fp': 1156,\n",
       "   'fscore': array([0.91868671, 0.51286765]),\n",
       "   'n_occurences': array([22114,  4507]),\n",
       "   'precision': array([0.89137462, 0.62817626]),\n",
       "   'predictions_count': Counter({0: 23512, 1: 3109}),\n",
       "   'recall': array([0.94772542, 0.43332594]),\n",
       "   'tn': 20958,\n",
       "   'tp': 1953}}}"
      ]
     },
     "execution_count": 371,
     "metadata": {},
     "output_type": "execute_result"
    }
   ],
   "source": [
    "results"
   ]
  },
  {
   "cell_type": "markdown",
   "metadata": {},
   "source": [
    "# predict Optout"
   ]
  },
  {
   "cell_type": "code",
   "execution_count": 45,
   "metadata": {
    "collapsed": true
   },
   "outputs": [],
   "source": [
    "Opens_ctype_uinfo = pd.merge(Opens, campaign_types, how = 'left', left_on ='campaign_send_dt', right_on = 'launch_id').merge(UserInfo, how = 'left' , on = 'riid')"
   ]
  },
  {
   "cell_type": "code",
   "execution_count": 46,
   "metadata": {},
   "outputs": [
    {
     "data": {
      "text/plain": [
       "Index([u'riid', u'campaign_send_dt', u'optout'], dtype='object')"
      ]
     },
     "execution_count": 46,
     "metadata": {},
     "output_type": "execute_result"
    }
   ],
   "source": [
    "Opens.columns"
   ]
  },
  {
   "cell_type": "code",
   "execution_count": 47,
   "metadata": {
    "collapsed": true
   },
   "outputs": [],
   "source": [
    "# getting which customer opened the campaign mail from the Sends table\n",
    "\n",
    "Opens_opt = pd.merge(Opens_ctype_uinfo, Sends, how = \"left\" , on = [\"riid\", \"campaign_send_dt\"])"
   ]
  },
  {
   "cell_type": "code",
   "execution_count": 85,
   "metadata": {
    "collapsed": true
   },
   "outputs": [],
   "source": [
    "final_opt = pd.merge(Opens_opt,events_sum_2018, how ='left', left_on = ['riid','campaign_send_dt'], right_on =['riid','event_captured_dt'], indicator ='True')"
   ]
  },
  {
   "cell_type": "code",
   "execution_count": 49,
   "metadata": {},
   "outputs": [
    {
     "data": {
      "text/plain": [
       "Index([u'riid', u'campaign_send_dt', u'optout', u'launch_id', u'camptype',\n",
       "       u'aq_dt', u'sub_source', u'opened', u'event_captured_dt', u'cnts_OPEN',\n",
       "       u'cnts_ONLINE PURCH', u'cnts_SENT', u'cnts_CLICK', u'cnts_OPEN_csum',\n",
       "       u'cnts_CLICK_csum', u'cnts_ONLINE PURCH_csum', u'cnts_SENT_csum',\n",
       "       u'True'],\n",
       "      dtype='object')"
      ]
     },
     "execution_count": 49,
     "metadata": {},
     "output_type": "execute_result"
    }
   ],
   "source": [
    "final_opt.columns"
   ]
  },
  {
   "cell_type": "code",
   "execution_count": 105,
   "metadata": {},
   "outputs": [
    {
     "data": {
      "text/plain": [
       "(100000, 30567)"
      ]
     },
     "execution_count": 105,
     "metadata": {},
     "output_type": "execute_result"
    }
   ],
   "source": [
    "len(final_opt[\"riid\"]),len(final_opt[\"riid\"].unique())"
   ]
  },
  {
   "cell_type": "code",
   "execution_count": 106,
   "metadata": {
    "collapsed": true
   },
   "outputs": [],
   "source": [
    "columns_todrop = ['launch_id', 'event_captured_dt', 'cnts_OPEN', 'cnts_CLICK', 'cnts_ONLINE PURCH', 'cnts_SENT', 'True']\n",
    "final_opt.drop(columns_todrop, axis = 1, inplace = True)"
   ]
  },
  {
   "cell_type": "code",
   "execution_count": 107,
   "metadata": {
    "collapsed": true
   },
   "outputs": [],
   "source": [
    "# feature engineering\n",
    "import datetime\n",
    "import time\n",
    "final_opt['tenure'] = pd.to_datetime(final_opt['campaign_send_dt']) - pd.to_datetime(final_opt['aq_dt']) \n",
    "final_opt['tenure'].fillna(0)\n",
    "#final_opt['tenure'] =  (final['tenure'] / np.timedelta64(1, 'D')).astype(int)\n",
    "final_opt['weekday_type'] = final_opt['campaign_send_dt'].apply(lambda x: datetime.datetime.strptime(x[:10], '%Y-%m-%d').date().isoweekday())\n",
    "\n",
    "\n",
    "final_opt = final_opt.sort_values(by= \"campaign_send_dt\").reset_index(drop=True)\n",
    "final_opt[\"user_cum_count\"] = final_opt.groupby('riid').cumcount()\n",
    "\n",
    "final_opt[\"campaign_send_dt\"] = pd.to_datetime(final_opt[\"campaign_send_dt\"], format=\"%Y-%m-%d\")\n",
    "final_opt[\"ordinal_date\"] = final_opt[\"campaign_send_dt\"].apply(lambda x: time.mktime(x.timetuple()))\n",
    "\n",
    "\n",
    "final_opt[\"user_prev_date\"] = final_opt.groupby(\"riid\")[\"campaign_send_dt\"].shift(1)\n",
    "final_opt[\"user_date_diff\"] = pd.to_datetime(final_opt[\"campaign_send_dt\"]) - pd.to_datetime(final_opt[\"user_prev_date\"])\n",
    "\n",
    "\n",
    "\n",
    "gdf_opt = final_opt.groupby(\"riid\")[\"ordinal_date\"].agg([\"min\", \"mean\", \"max\", \"std\"]).reset_index()\n",
    "gdf_opt.columns = [\"riid\", \"user_min_date\", \"user_mean_date\", \"user_max_date\", \"user_std_date\"]\n",
    "\n",
    "final_opt = pd.merge(final_opt, gdf_opt, on=\"riid\")"
   ]
  },
  {
   "cell_type": "code",
   "execution_count": 108,
   "metadata": {},
   "outputs": [
    {
     "data": {
      "text/plain": [
       "riid                      0\n",
       "campaign_send_dt          0\n",
       "optout                    0\n",
       "camptype                  0\n",
       "aq_dt                     0\n",
       "sub_source                0\n",
       "opened                    0\n",
       "cnts_OPEN_csum            0\n",
       "cnts_CLICK_csum           0\n",
       "cnts_ONLINE PURCH_csum    0\n",
       "cnts_SENT_csum            0\n",
       "month                     0\n",
       "tenure                    0\n",
       "weekday_type              0\n",
       "user_cum_count            0\n",
       "ordinal_date              0\n",
       "user_prev_date            0\n",
       "user_date_diff            0\n",
       "user_min_date             0\n",
       "user_mean_date            0\n",
       "user_max_date             0\n",
       "user_std_date             0\n",
       "dtype: int64"
      ]
     },
     "execution_count": 108,
     "metadata": {},
     "output_type": "execute_result"
    }
   ],
   "source": [
    "\n",
    "final_opt.isnull().sum()\n",
    "final_opt['camptype'].value_counts()\n",
    "\n",
    "final_opt['camptype'] = final_opt['camptype'].fillna(\"Heavy Promo - Dedicated Messaging\")\n",
    "#final_opt['opened'].value_counts()\n",
    "final_opt.isnull().sum()\n",
    "final_opt = final_opt.fillna(0)\n",
    "final_opt.isnull().sum()"
   ]
  },
  {
   "cell_type": "code",
   "execution_count": 109,
   "metadata": {
    "collapsed": true
   },
   "outputs": [],
   "source": [
    "cols_to_transform = ['camptype','sub_source', 'weekday_type']\n",
    "df_with_dummies_opt = pd.get_dummies( final_opt[['opened','optout','campaign_send_dt',\n",
    " 'camptype',\n",
    " 'sub_source',\n",
    " 'cnts_OPEN_csum',\n",
    " 'cnts_CLICK_csum',\n",
    " 'cnts_ONLINE PURCH_csum',\n",
    " 'cnts_SENT_csum',\n",
    " 'tenure',\n",
    " 'weekday_type',\n",
    " 'user_cum_count',\n",
    " 'user_date_diff',\n",
    " 'user_min_date',\n",
    " 'user_mean_date',\n",
    " 'user_max_date',\n",
    " 'user_std_date']], columns = cols_to_transform )"
   ]
  },
  {
   "cell_type": "code",
   "execution_count": 110,
   "metadata": {
    "collapsed": true
   },
   "outputs": [],
   "source": [
    "columns = [\n",
    " 'camptype_Heavy Promo',\n",
    " 'camptype_Heavy Promo - Dedicated Messaging',\n",
    " 'camptype_Heavy Promo - Secondary Messaging',\n",
    " 'camptype_Light Promo',\n",
    " 'camptype_Light Promo - Secondary Messaging',\n",
    " 'camptype_No Promo',\n",
    " 'sub_source_Checkout_Online',\n",
    " 'sub_source_Facebook CPL_Online',\n",
    " 'sub_source_Footer_Desktop',\n",
    " 'sub_source_Footer_Mobile',\n",
    " 'sub_source_Join_Desktop',\n",
    " 'sub_source_Join_Mobile',\n",
    " 'sub_source_Lightbox_Desktop',\n",
    " 'sub_source_Lightbox_Mobile',\n",
    " 'sub_source_My Account_Desktop',\n",
    " 'sub_source_My Account_Mobile',\n",
    " 'sub_source_Other_Other',\n",
    " 'sub_source_POS form_Physical',\n",
    " 'sub_source_Sports/Brand_Online',\n",
    " 'sub_source_Warehouse_Desktop',\n",
    " 'sub_source_Warehouse_Mobile',\n",
    " 'sub_source_eReceipt_Physical',\n",
    " 'weekday_type_1',\n",
    " 'weekday_type_2',\n",
    " 'weekday_type_3',\n",
    " 'weekday_type_4',\n",
    " 'weekday_type_5',\n",
    " 'weekday_type_7',\n",
    "  'opened'  \n",
    "]\n",
    "\n",
    "for col in columns:\n",
    "    df_with_dummies_opt[col] = df_with_dummies_opt[col].astype('category')\n"
   ]
  },
  {
   "cell_type": "code",
   "execution_count": 111,
   "metadata": {
    "collapsed": true
   },
   "outputs": [],
   "source": [
    "df_with_dummies_opt['tenure'] =  (df_with_dummies_opt['tenure'] / np.timedelta64(1, 'D')).astype(int)\n",
    "\n",
    "final_train_opt = df_with_dummies_opt[df_with_dummies_opt['campaign_send_dt'] <= '2018-02-15']\n",
    "\n",
    "final_test_opt = df_with_dummies_opt[df_with_dummies_opt['campaign_send_dt'] > '2018-02-15']"
   ]
  },
  {
   "cell_type": "code",
   "execution_count": 112,
   "metadata": {},
   "outputs": [
    {
     "data": {
      "text/plain": [
       "0    98626\n",
       "1     1374\n",
       "Name: optout, dtype: int64"
      ]
     },
     "execution_count": 112,
     "metadata": {},
     "output_type": "execute_result"
    }
   ],
   "source": [
    "df_with_dummies_opt['optout'].value_counts()"
   ]
  },
  {
   "cell_type": "code",
   "execution_count": 43,
   "metadata": {
    "collapsed": true
   },
   "outputs": [],
   "source": [
    "X_train_col_optout = ['cnts_OPEN_csum',\n",
    " 'cnts_CLICK_csum',\n",
    " 'cnts_ONLINE PURCH_csum',\n",
    " 'cnts_SENT_csum',\n",
    "               'tenure',\n",
    " 'user_cum_count',\n",
    " 'user_min_date',\n",
    " 'user_mean_date',\n",
    " 'user_max_date',\n",
    " 'user_std_date',\n",
    " 'camptype_Heavy Promo',\n",
    " 'camptype_Heavy Promo - Dedicated Messaging',\n",
    " 'camptype_Heavy Promo - Secondary Messaging',\n",
    " 'camptype_Light Promo',\n",
    " 'camptype_Light Promo - Secondary Messaging',\n",
    " 'camptype_No Promo',\n",
    " 'sub_source_Checkout_Online',\n",
    " 'sub_source_Facebook CPL_Online',\n",
    " 'sub_source_Footer_Desktop',\n",
    " 'sub_source_Footer_Mobile',\n",
    " 'sub_source_Join_Desktop',\n",
    " 'sub_source_Join_Mobile',\n",
    " 'sub_source_Lightbox_Desktop',\n",
    " 'sub_source_Lightbox_Mobile',\n",
    " 'sub_source_My Account_Desktop',\n",
    " 'sub_source_My Account_Mobile',\n",
    " 'sub_source_Other_Other',\n",
    " 'sub_source_POS form_Physical',\n",
    " 'sub_source_Sports/Brand_Online',\n",
    " 'sub_source_Warehouse_Desktop',\n",
    " 'sub_source_Warehouse_Mobile',\n",
    " 'sub_source_eReceipt_Physical',\n",
    " 'weekday_type_1',\n",
    " 'weekday_type_2',\n",
    " 'weekday_type_3',\n",
    " 'weekday_type_4',\n",
    " 'weekday_type_5',\n",
    " 'weekday_type_7']\n",
    "# Fit and transform x to visualise inside a 2D feature space\n",
    "# Instanciate a PCA object for the sake of easy visualisation\n",
    "\n",
    "X_train_opt = final_train_opt[X_train_col_optout].values\n",
    "X_test_opt = final_test_opt[X_train_col_optout].values\n",
    "\n",
    "\n",
    "y_train_opt = final_train_opt['optout'].values\n",
    "y_test_opt = final_test_opt['optout'].values"
   ]
  },
  {
   "cell_type": "code",
   "execution_count": 44,
   "metadata": {},
   "outputs": [
    {
     "data": {
      "text/plain": [
       "(73379, 26621, 73379, 26621)"
      ]
     },
     "execution_count": 44,
     "metadata": {},
     "output_type": "execute_result"
    }
   ],
   "source": [
    "len(X_train_opt), len(X_test_opt), len(y_train_opt), len(y_test_opt)"
   ]
  },
  {
   "cell_type": "code",
   "execution_count": 83,
   "metadata": {},
   "outputs": [
    {
     "name": "stdout",
     "output_type": "stream",
     "text": [
      "------ Oversampling methods ------\n",
      "Technique:RandomOverSampler\n",
      "Before resampling: [(0, 72375), (1, 1004)]\n",
      "After resampling : [(0, 72375), (1, 72375)]\n",
      "Technique:SMOTE\n",
      "Before resampling: [(0, 72375), (1, 1004)]\n",
      "After resampling : [(0, 72375), (1, 72375)]\n",
      "Technique:ADASYN\n",
      "Before resampling: [(0, 72375), (1, 1004)]\n",
      "After resampling : [(0, 72375), (1, 72055)]\n",
      "------ Undersampling methods ------\n",
      "Technique:RandomUnderSampler\n",
      "Before resampling: [(0, 72375), (1, 1004)]\n",
      "After resampling : [(0, 1004), (1, 1004)]\n",
      "Technique:NearMiss1\n",
      "Before resampling: [(0, 72375), (1, 1004)]\n",
      "After resampling : [(0, 1004), (1, 1004)]\n",
      "Technique:NearMiss2\n",
      "Before resampling: [(0, 72375), (1, 1004)]\n",
      "After resampling : [(0, 1004), (1, 1004)]\n",
      "Technique:TomekLinks\n",
      "Before resampling: [(0, 72375), (1, 1004)]\n",
      "After resampling : [(0, 71831), (1, 1004)]\n",
      "Technique:EditedNearestNeighbours\n",
      "Before resampling: [(0, 72375), (1, 1004)]\n",
      "After resampling : [(0, 70001), (1, 1004)]\n",
      "------ combined methods ------\n",
      "Technique:SMOTEENN\n",
      "Before resampling: [(0, 72375), (1, 1004)]\n",
      "After resampling : [(0, 66314), (1, 67917)]\n",
      "Technique:SMOTETomek\n",
      "Before resampling: [(0, 72375), (1, 1004)]\n",
      "After resampling : [(0, 71737), (1, 71737)]\n"
     ]
    }
   ],
   "source": [
    "from imblearn.combine import SMOTETomek\n",
    "from imblearn.combine import SMOTEENN\n",
    "from imblearn.ensemble import EasyEnsemble \n",
    "import numpy as np\n",
    "import pandas as pd\n",
    "\n",
    "import xgboost as xgb\n",
    "\n",
    "from sklearn.datasets import make_classification\n",
    "from sklearn.metrics import accuracy_score, precision_score, recall_score\n",
    "from sklearn.cross_validation import train_test_split\n",
    "\n",
    "# reproducibility\n",
    "seed = 123\n",
    "params = {\n",
    "    'objective':'binary:logistic',\n",
    "    'max_depth':8,\n",
    "    'silent':1,\n",
    "    'eta':0.01,\n",
    "    \"subsample\" : 0.7,\n",
    "    \"min_child_weight\" : 10    \n",
    "}\n",
    "\n",
    "num_rounds = 15\n",
    "results_optout = model_resampling_pipeline_xgb(X_train_opt, X_test_opt, y_train_opt, y_test_opt)"
   ]
  },
  {
   "cell_type": "code",
   "execution_count": 84,
   "metadata": {},
   "outputs": [
    {
     "data": {
      "image/png": "[encoded data removed]",
      "text/plain": [
       "<matplotlib.figure.Figure at 0x114cf2390>"
      ]
     },
     "metadata": {},
     "output_type": "display_data"
    }
   ],
   "source": [
    "evaluate_method_optout(results_optout, 'oversample')"
   ]
  },
  {
   "cell_type": "code",
   "execution_count": 85,
   "metadata": {},
   "outputs": [
    {
     "data": {
      "image/png": "[encoded data removed]",
      "text/plain": [
       "<matplotlib.figure.Figure at 0x114959e10>"
      ]
     },
     "metadata": {},
     "output_type": "display_data"
    }
   ],
   "source": [
    "evaluate_method_optout(results_optout, 'undersample')"
   ]
  },
  {
   "cell_type": "code",
   "execution_count": 86,
   "metadata": {},
   "outputs": [
    {
     "data": {
      "image/png": "[encoded data removed]",
      "text/plain": [
       "<matplotlib.figure.Figure at 0x116e9bd90>"
      ]
     },
     "metadata": {},
     "output_type": "display_data"
    }
   ],
   "source": [
    "evaluate_method_optout(results_optout, 'combined')"
   ]
  },
  {
   "cell_type": "markdown",
   "metadata": {
    "collapsed": true
   },
   "source": [
    "## Q5 As purely a thought exercise, describe how might you balance maximizing engagement rates while minimizing opt-out rates. What other data might you look at in order to inform the decision on appropriate weighting and strategy?"
   ]
  },
  {
   "cell_type": "markdown",
   "metadata": {},
   "source": [
    "###\n",
    "\n",
    "Right content personalised to the right cusotmer at the right time is what drives engagement rates  \n",
    "and minimises optout rates\n",
    "\n",
    "\n",
    "I would like to look at the following data \n",
    "\n",
    "Right content:\n",
    "1.Title of the mail\n",
    "2.Content of the mail\n",
    "3.links, images in the mail\n",
    "\n",
    "Campaign information\n",
    "1. campaign information such as what is it about ? what is it promoting ? which item? category ?\n",
    "\n",
    "Customer details:\n",
    "Other transaction details on the website to link both of them to have a better understanding about the customer\n",
    "\n",
    "\n",
    "\n",
    "\n",
    "\n",
    "    \n",
    "    \n",
    "\n",
    "    \n",
    "\n",
    "\n",
    "\n",
    "\n",
    "\n",
    "\n",
    "\n",
    "\n",
    "\n",
    "\n",
    "\n",
    "\n"
   ]
  },
  {
   "cell_type": "code",
   "execution_count": null,
   "metadata": {
    "collapsed": true
   },
   "outputs": [],
   "source": []
  }
 ],
 "metadata": {
  "kernelspec": {
   "display_name": "Python 2",
   "language": "python",
   "name": "python2"
  },
  "language_info": {
   "codemirror_mode": {
    "name": "ipython",
    "version": 2
   },
   "file_extension": ".py",
   "mimetype": "text/x-python",
   "name": "python",
   "nbconvert_exporter": "python",
   "pygments_lexer": "ipython2",
   "version": "2.7.13"
  }
 },
 "nbformat": 4,
 "nbformat_minor": 2
}
